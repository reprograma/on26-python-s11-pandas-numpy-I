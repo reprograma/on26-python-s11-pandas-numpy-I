{
 "cells": [
  {
   "cell_type": "markdown",
   "metadata": {},
   "source": [
    "Introdução\n",
    "\n",
    "O conjunto de dados do Titanic é um dos conjuntos mais populares na análise de dados e ciência de dados. Ele contém informações sobre os passageiros que estavam a bordo do navio RMS Titanic em sua viagem inaugural em 1912, que terminou com o naufrágio do navio. Este conjunto de dados fornece uma visão detalhada das características dos passageiros, incluindo:\n",
    "\n",
    "PassengerId: Número de identificação do passageiro.\n",
    "Survived: Indicador de sobrevivência (0 = Não sobreviveu, 1 = Sobreviveu).\n",
    "Pclass: Classe da passagem (1 = 1ª Classe, 2 = 2ª Classe, 3 = 3ª Classe).\n",
    "Name: Nome do passageiro.\n",
    "Sex: Gênero do passageiro (Masculino ou Feminino).\n",
    "Age: Idade do passageiro.\n",
    "SibSp: Número de irmãos/cônjuge a bordo.\n",
    "Parch: Número de pais/filhos a bordo.\n",
    "Ticket: Número do bilhete.\n",
    "Fare: Tarifa paga pelo passageiro.\n",
    "Cabin: Número da cabine.\n",
    "Embarked: Porto de embarque (C = Cherbourg, Q = Queenstown, S = Southampton).\n",
    "\n",
    "Esta análise se concentrará na relação entre sexo e idade dos passageiros com suas taxas de sobrevivência, buscando entender os eventos que ocorreram durante essa viagem."
   ]
  },
  {
   "cell_type": "code",
   "execution_count": 1,
   "metadata": {},
   "outputs": [
    {
     "name": "stdout",
     "output_type": "stream",
     "text": [
      "Primeiras 3 linhas do DataFrame:\n",
      "   PassengerId  Survived  Pclass  \\\n",
      "0            1         0       3   \n",
      "1            2         1       1   \n",
      "2            3         1       3   \n",
      "\n",
      "                                                Name     Sex   Age  SibSp  \\\n",
      "0                            Braund, Mr. Owen Harris    male  22.0      1   \n",
      "1  Cumings, Mrs. John Bradley (Florence Briggs Th...  female  38.0      1   \n",
      "2                             Heikkinen, Miss. Laina  female  26.0      0   \n",
      "\n",
      "   Parch            Ticket     Fare Cabin Embarked  \n",
      "0      0         A/5 21171   7.2500   NaN        S  \n",
      "1      0          PC 17599  71.2833   C85        C  \n",
      "2      0  STON/O2. 3101282   7.9250   NaN        S  \n"
     ]
    }
   ],
   "source": [
    "import pandas as pd\n",
    "\n",
    "def process_data(filename):\n",
    "    df = pd.read_csv(filename)\n",
    "    return df \n",
    "\n",
    "# Chamar a função para carregar o DataFrame\n",
    "titanic_df = process_data(\"titanic.csv\")\n",
    "\n",
    "# Exibir as primeiras 3 linhas do DataFrame\n",
    "print(\"Primeiras 3 linhas do DataFrame:\")\n",
    "print(titanic_df.head(3))"
   ]
  },
  {
   "cell_type": "code",
   "execution_count": 2,
   "metadata": {},
   "outputs": [
    {
     "name": "stdout",
     "output_type": "stream",
     "text": [
      "Lista de colunas do DataFrame:\n",
      "['Survived', 'Sex', 'Age']\n"
     ]
    }
   ],
   "source": [
    "# Deletar colunas que não são relevantes para a análise\n",
    "titanic_df = titanic_df.drop(['PassengerId','Pclass','Name','SibSp','Parch','Ticket','Fare','Cabin','Embarked'], axis=1)\n",
    "\n",
    "# Calcular a média da idade dos passageiros\n",
    "mean_age = titanic_df['Age'].mean()\n",
    "\n",
    "# Substituindo os valores nulos na coluna 'Age' pela média\n",
    "titanic_df['Age'].fillna(mean_age, inplace=True)\n",
    "\n",
    "# Ordenando os valores do DataFrame\n",
    "titanic_df = titanic_df.sort_values(by=['Sex', 'Age'])\n",
    "\n",
    "# Apresentar a lista de colunas do DataFrame\n",
    "columns_list = titanic_df.columns.tolist()\n",
    "print(\"Lista de colunas do DataFrame:\")\n",
    "print(columns_list)\n",
    "\n",
    "\n",
    "\n"
   ]
  },
  {
   "cell_type": "code",
   "execution_count": 3,
   "metadata": {},
   "outputs": [
    {
     "name": "stdout",
     "output_type": "stream",
     "text": [
      "O desvio padrão da idade no Titanic após a substituição dos valores nulos é: 13.002015226002884\n"
     ]
    }
   ],
   "source": [
    "# Calcule o desvio padrão da coluna 'Age' após a substituição dos valores nulos\n",
    "std_deviation_age = titanic_df['Age'].std()\n",
    "\n",
    "print(f'O desvio padrão da idade no Titanic após a substituição dos valores nulos é: {std_deviation_age}')"
   ]
  },
  {
   "cell_type": "code",
   "execution_count": 3,
   "metadata": {},
   "outputs": [
    {
     "name": "stdout",
     "output_type": "stream",
     "text": [
      "Primeiras 3 linhas da cópia do DataFrame:\n",
      "     Survived     Sex   Age\n",
      "469         1  female  0.75\n",
      "644         1  female  0.75\n",
      "172         1  female  1.00\n"
     ]
    }
   ],
   "source": [
    "# Cópia do DataFrame final\n",
    "copied_df = titanic_df.copy()\n",
    "print(\"Primeiras 3 linhas da cópia do DataFrame:\")\n",
    "print(copied_df.head(3))\n"
   ]
  },
  {
   "cell_type": "code",
   "execution_count": 4,
   "metadata": {},
   "outputs": [],
   "source": [
    "# Resetar o índice do DataFrame\n",
    "titanic_df = titanic_df.reset_index(drop=True)"
   ]
  },
  {
   "cell_type": "code",
   "execution_count": 10,
   "metadata": {},
   "outputs": [],
   "source": [
    "# Exportando o DataFrame final para um arquivo CSV\n",
    "titanic_df.to_csv(\"titanic_processed.csv\", index=False)"
   ]
  },
  {
   "cell_type": "markdown",
   "metadata": {},
   "source": [
    "Conclusão:\n",
    "\n",
    "A porcentagem de dados nulos na coluna 'Age' é de 20%, os quais foram substituídos pela média da idade dos passageiros. Esse percentual considerável de nulos, pode interferir nos resultados da análise que relaciona a idade com a sobrevivência, apesar da substituição pela média. \n",
    "Para obter insights relacionados à idade e sobrevivência, seria útil agrupar os passageiros em faixas etárias e analisar as taxas de sobrevivência em cada grupo etário.\n",
    "É possível afirmar que a análise relacionada ao gênero é mais precisa.\n",
    "\n",
    "Insight 1:\n",
    "Passageiros do sexo feminino têm uma taxa de sobrevivência significativamente maior em comparação com passageiros do sexo masculino. Essa observação sugere que a política de \"mulheres e crianças primeiro\" foi efetivamente implementada durante o naufrágio do Titanic, priorizando a sobrevivência das mulheres.\n",
    "\n",
    "Insight 2:\n",
    "A análise da idade dos passageiros mostra que crianças (idade inferior a 18 anos) tiveram uma taxa de sobrevivência mais alta em comparação com os passageiros adultos. Isso reforça ainda mais a ideia de que a priorização de crianças durante a evacuação pode ter contribuído para a maior taxa de sobrevivência em grupos etários mais jovens.\n"
   ]
  }
 ],
 "metadata": {
  "kernelspec": {
   "display_name": "Python 3",
   "language": "python",
   "name": "python3"
  },
  "language_info": {
   "codemirror_mode": {
    "name": "ipython",
    "version": 3
   },
   "file_extension": ".py",
   "mimetype": "text/x-python",
   "name": "python",
   "nbconvert_exporter": "python",
   "pygments_lexer": "ipython3",
   "version": "3.11.4"
  }
 },
 "nbformat": 4,
 "nbformat_minor": 2
}
