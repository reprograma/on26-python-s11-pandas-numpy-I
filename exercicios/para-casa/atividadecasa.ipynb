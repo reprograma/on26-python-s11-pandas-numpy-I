{
 "cells": [
  {
   "cell_type": "markdown",
   "metadata": {},
   "source": [
    "INTRODUÇÃO - Temos informaçãoes sobre um navio, chamado Titanic. Na nossabase de dados, contem informações varias informações. Como: NOME, SEXO, CLASSE, PASSAGEIROS, SOBREVIVENTES,IDADE, BILHETE, TARIFA, CABINE, EMBARCADO e outros.\n",
    "\n"
   ]
  },
  {
   "cell_type": "code",
   "execution_count": null,
   "metadata": {},
   "outputs": [],
   "source": [
    "import pandas as pd\n"
   ]
  },
  {
   "cell_type": "code",
   "execution_count": null,
   "metadata": {},
   "outputs": [],
   "source": [
    "#dataframe\n",
    "\n",
    "data ={\n",
    "    'Nome': [],\n",
    "    'Sexo':[],\n",
    "    'Classe':[],\n",
    "    'Passageiros':[],\n",
    "    'Sobreviventes':[],\n",
    "    'Idade':[],\n",
    "    'Bilhete':[],\n",
    "    'Tarifa':[],\n",
    "    \n",
    "\n",
    "}"
   ]
  },
  {
   "cell_type": "code",
   "execution_count": null,
   "metadata": {},
   "outputs": [],
   "source": [
    "df = pd.DataFrame(data)\n",
    "df= pd.read_csv('titanic.csv')"
   ]
  },
  {
   "cell_type": "code",
   "execution_count": null,
   "metadata": {},
   "outputs": [],
   "source": [
    "print (df)"
   ]
  },
  {
   "cell_type": "code",
   "execution_count": null,
   "metadata": {},
   "outputs": [],
   "source": [
    "df.head()"
   ]
  },
  {
   "cell_type": "code",
   "execution_count": null,
   "metadata": {},
   "outputs": [],
   "source": [
    "df.isnull().sum()"
   ]
  },
  {
   "cell_type": "markdown",
   "metadata": {},
   "source": [
    "Insights \n",
    "\n",
    "A partir da analise:\n",
    "- Proporção de passageiros masculinos e femininos\n",
    "- idade media dos passageiros\n",
    "- distribuição de passageiros nas diferentes classes\n",
    "- Sobre processamentos de Dados: \n",
    "   - limpar valores ausentes para garantir que estejam limpos e bons para a analise"
   ]
  },
  {
   "cell_type": "markdown",
   "metadata": {},
   "source": []
  }
 ],
 "metadata": {
  "kernelspec": {
   "display_name": "Python 3",
   "language": "python",
   "name": "python3"
  },
  "language_info": {
   "codemirror_mode": {
    "name": "ipython",
    "version": 3
   },
   "file_extension": ".py",
   "mimetype": "text/x-python",
   "name": "python",
   "nbconvert_exporter": "python",
   "pygments_lexer": "ipython3",
   "version": "3.11.4"
  }
 },
 "nbformat": 4,
 "nbformat_minor": 2
}
