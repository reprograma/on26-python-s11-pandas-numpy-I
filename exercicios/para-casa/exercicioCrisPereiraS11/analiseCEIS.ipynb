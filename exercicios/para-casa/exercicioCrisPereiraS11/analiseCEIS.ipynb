{
 "cells": [
  {
   "cell_type": "markdown",
   "metadata": {},
   "source": [
    "# Projeto Semana 11 - Python Reprograma - Cris Pereira\n",
    "\n",
    "## Introdução\n",
    "Nesse notebook realizo edições e faço uma análise inicial de dois bancos de dados, um de morte materna ao redor do mundo e outro relacionado à receita da indústria farmacêutica em diversos países (tema que tem a ver com a minha pesquisa de pós-graduação sobre o Complexo Industrial da Saúde - CEIS).  "
   ]
  },
  {
   "cell_type": "markdown",
   "metadata": {},
   "source": [
    "## Processamento"
   ]
  },
  {
   "cell_type": "code",
   "execution_count": 5,
   "metadata": {},
   "outputs": [],
   "source": [
    "import pandas as pd"
   ]
  },
  {
   "cell_type": "code",
   "execution_count": 6,
   "metadata": {},
   "outputs": [],
   "source": [
    "df_health = pd.read_csv(\"health_indicators_ocde.csv\")\n",
    "df_mortality = pd.read_csv(\"maternal-mortality-who.csv\")"
   ]
  },
  {
   "cell_type": "code",
   "execution_count": 7,
   "metadata": {},
   "outputs": [
    {
     "data": {
      "text/html": [
       "<div>\n",
       "<style scoped>\n",
       "    .dataframe tbody tr th:only-of-type {\n",
       "        vertical-align: middle;\n",
       "    }\n",
       "\n",
       "    .dataframe tbody tr th {\n",
       "        vertical-align: top;\n",
       "    }\n",
       "\n",
       "    .dataframe thead th {\n",
       "        text-align: right;\n",
       "    }\n",
       "</style>\n",
       "<table border=\"1\" class=\"dataframe\">\n",
       "  <thead>\n",
       "    <tr style=\"text-align: right;\">\n",
       "      <th></th>\n",
       "      <th>VAR</th>\n",
       "      <th>Variable</th>\n",
       "      <th>UNIT</th>\n",
       "      <th>Measure</th>\n",
       "      <th>COU</th>\n",
       "      <th>Country</th>\n",
       "      <th>YEA</th>\n",
       "      <th>Year</th>\n",
       "      <th>Value</th>\n",
       "      <th>Flag Codes</th>\n",
       "      <th>Flags</th>\n",
       "    </tr>\n",
       "  </thead>\n",
       "  <tbody>\n",
       "    <tr>\n",
       "      <th>0</th>\n",
       "      <td>PATCTOTT</td>\n",
       "      <td>Total pharmaceutical sales</td>\n",
       "      <td>MLLNCUMT</td>\n",
       "      <td>Million of national currency units</td>\n",
       "      <td>AUS</td>\n",
       "      <td>Australia</td>\n",
       "      <td>2010</td>\n",
       "      <td>2010</td>\n",
       "      <td>9795.0</td>\n",
       "      <td>D</td>\n",
       "      <td>Difference in methodology</td>\n",
       "    </tr>\n",
       "    <tr>\n",
       "      <th>1</th>\n",
       "      <td>PATCTOTT</td>\n",
       "      <td>Total pharmaceutical sales</td>\n",
       "      <td>MLLNCUMT</td>\n",
       "      <td>Million of national currency units</td>\n",
       "      <td>AUS</td>\n",
       "      <td>Australia</td>\n",
       "      <td>2011</td>\n",
       "      <td>2011</td>\n",
       "      <td>10261.0</td>\n",
       "      <td>D</td>\n",
       "      <td>Difference in methodology</td>\n",
       "    </tr>\n",
       "    <tr>\n",
       "      <th>2</th>\n",
       "      <td>PATCTOTT</td>\n",
       "      <td>Total pharmaceutical sales</td>\n",
       "      <td>MLLNCUMT</td>\n",
       "      <td>Million of national currency units</td>\n",
       "      <td>AUS</td>\n",
       "      <td>Australia</td>\n",
       "      <td>2012</td>\n",
       "      <td>2012</td>\n",
       "      <td>10355.0</td>\n",
       "      <td>D</td>\n",
       "      <td>Difference in methodology</td>\n",
       "    </tr>\n",
       "  </tbody>\n",
       "</table>\n",
       "</div>"
      ],
      "text/plain": [
       "        VAR                    Variable      UNIT  \\\n",
       "0  PATCTOTT  Total pharmaceutical sales  MLLNCUMT   \n",
       "1  PATCTOTT  Total pharmaceutical sales  MLLNCUMT   \n",
       "2  PATCTOTT  Total pharmaceutical sales  MLLNCUMT   \n",
       "\n",
       "                              Measure  COU    Country   YEA  Year    Value  \\\n",
       "0  Million of national currency units  AUS  Australia  2010  2010   9795.0   \n",
       "1  Million of national currency units  AUS  Australia  2011  2011  10261.0   \n",
       "2  Million of national currency units  AUS  Australia  2012  2012  10355.0   \n",
       "\n",
       "  Flag Codes                      Flags  \n",
       "0          D  Difference in methodology  \n",
       "1          D  Difference in methodology  \n",
       "2          D  Difference in methodology  "
      ]
     },
     "execution_count": 7,
     "metadata": {},
     "output_type": "execute_result"
    }
   ],
   "source": [
    "df_health.head(3)"
   ]
  },
  {
   "cell_type": "code",
   "execution_count": 8,
   "metadata": {},
   "outputs": [
    {
     "data": {
      "text/html": [
       "<div>\n",
       "<style scoped>\n",
       "    .dataframe tbody tr th:only-of-type {\n",
       "        vertical-align: middle;\n",
       "    }\n",
       "\n",
       "    .dataframe tbody tr th {\n",
       "        vertical-align: top;\n",
       "    }\n",
       "\n",
       "    .dataframe thead th {\n",
       "        text-align: right;\n",
       "    }\n",
       "</style>\n",
       "<table border=\"1\" class=\"dataframe\">\n",
       "  <thead>\n",
       "    <tr style=\"text-align: right;\">\n",
       "      <th></th>\n",
       "      <th>Entity</th>\n",
       "      <th>Code</th>\n",
       "      <th>Year</th>\n",
       "      <th>Indicator:Maternal mortality ratio (per 100 000 live births)</th>\n",
       "    </tr>\n",
       "  </thead>\n",
       "  <tbody>\n",
       "    <tr>\n",
       "      <th>0</th>\n",
       "      <td>Afghanistan</td>\n",
       "      <td>AFG</td>\n",
       "      <td>2000</td>\n",
       "      <td>1450</td>\n",
       "    </tr>\n",
       "    <tr>\n",
       "      <th>1</th>\n",
       "      <td>Afghanistan</td>\n",
       "      <td>AFG</td>\n",
       "      <td>2001</td>\n",
       "      <td>1390</td>\n",
       "    </tr>\n",
       "    <tr>\n",
       "      <th>2</th>\n",
       "      <td>Afghanistan</td>\n",
       "      <td>AFG</td>\n",
       "      <td>2002</td>\n",
       "      <td>1300</td>\n",
       "    </tr>\n",
       "  </tbody>\n",
       "</table>\n",
       "</div>"
      ],
      "text/plain": [
       "        Entity Code  Year  \\\n",
       "0  Afghanistan  AFG  2000   \n",
       "1  Afghanistan  AFG  2001   \n",
       "2  Afghanistan  AFG  2002   \n",
       "\n",
       "   Indicator:Maternal mortality ratio (per 100 000 live births)  \n",
       "0                                               1450             \n",
       "1                                               1390             \n",
       "2                                               1300             "
      ]
     },
     "execution_count": 8,
     "metadata": {},
     "output_type": "execute_result"
    }
   ],
   "source": [
    "df_mortality.head(3)"
   ]
  },
  {
   "cell_type": "code",
   "execution_count": 9,
   "metadata": {},
   "outputs": [],
   "source": [
    "# Decidi colocar o dataframe com novas colunas em um novo objeto\n",
    "df_newhealth = df_health.drop(columns= ['VAR', 'UNIT','COU','YEA','Flag Codes', 'Flags'])"
   ]
  },
  {
   "cell_type": "code",
   "execution_count": 10,
   "metadata": {},
   "outputs": [
    {
     "data": {
      "text/plain": [
       "Index(['Variable', 'Measure', 'Country', 'Year', 'Value'], dtype='object')"
      ]
     },
     "execution_count": 10,
     "metadata": {},
     "output_type": "execute_result"
    }
   ],
   "source": [
    "# Verificando remoção das colunas\n",
    "df_newhealth.columns"
   ]
  },
  {
   "cell_type": "code",
   "execution_count": 11,
   "metadata": {},
   "outputs": [],
   "source": [
    "# Decidi colocar o dataframe com novas colunas em um novo objeto\n",
    "df_newmortality = df_mortality.drop(columns=[\"Code\"])"
   ]
  },
  {
   "cell_type": "code",
   "execution_count": 12,
   "metadata": {},
   "outputs": [
    {
     "data": {
      "text/plain": [
       "Index(['Entity', 'Year',\n",
       "       'Indicator:Maternal mortality ratio (per 100 000 live births)'],\n",
       "      dtype='object')"
      ]
     },
     "execution_count": 12,
     "metadata": {},
     "output_type": "execute_result"
    }
   ],
   "source": [
    "# Verificando remoção das colunas\n",
    "df_newmortality.columns"
   ]
  },
  {
   "cell_type": "code",
   "execution_count": 13,
   "metadata": {},
   "outputs": [
    {
     "data": {
      "text/html": [
       "<div>\n",
       "<style scoped>\n",
       "    .dataframe tbody tr th:only-of-type {\n",
       "        vertical-align: middle;\n",
       "    }\n",
       "\n",
       "    .dataframe tbody tr th {\n",
       "        vertical-align: top;\n",
       "    }\n",
       "\n",
       "    .dataframe thead th {\n",
       "        text-align: right;\n",
       "    }\n",
       "</style>\n",
       "<table border=\"1\" class=\"dataframe\">\n",
       "  <thead>\n",
       "    <tr style=\"text-align: right;\">\n",
       "      <th></th>\n",
       "      <th>Variable</th>\n",
       "      <th>Measure</th>\n",
       "      <th>Country</th>\n",
       "      <th>Year</th>\n",
       "      <th>Value</th>\n",
       "    </tr>\n",
       "  </thead>\n",
       "  <tbody>\n",
       "    <tr>\n",
       "      <th>0</th>\n",
       "      <td>Total pharmaceutical sales</td>\n",
       "      <td>Million of national currency units</td>\n",
       "      <td>Australia</td>\n",
       "      <td>2010</td>\n",
       "      <td>9795.0</td>\n",
       "    </tr>\n",
       "    <tr>\n",
       "      <th>37893</th>\n",
       "      <td>M-Musculo-skeletal system</td>\n",
       "      <td>Million of national currency units</td>\n",
       "      <td>Australia</td>\n",
       "      <td>2013</td>\n",
       "      <td>378.0</td>\n",
       "    </tr>\n",
       "    <tr>\n",
       "      <th>37892</th>\n",
       "      <td>M-Musculo-skeletal system</td>\n",
       "      <td>Million of national currency units</td>\n",
       "      <td>Australia</td>\n",
       "      <td>2012</td>\n",
       "      <td>312.0</td>\n",
       "    </tr>\n",
       "    <tr>\n",
       "      <th>37891</th>\n",
       "      <td>M-Musculo-skeletal system</td>\n",
       "      <td>Million of national currency units</td>\n",
       "      <td>Australia</td>\n",
       "      <td>2011</td>\n",
       "      <td>309.0</td>\n",
       "    </tr>\n",
       "    <tr>\n",
       "      <th>37890</th>\n",
       "      <td>M-Musculo-skeletal system</td>\n",
       "      <td>Million of national currency units</td>\n",
       "      <td>Australia</td>\n",
       "      <td>2010</td>\n",
       "      <td>324.0</td>\n",
       "    </tr>\n",
       "    <tr>\n",
       "      <th>...</th>\n",
       "      <td>...</td>\n",
       "      <td>...</td>\n",
       "      <td>...</td>\n",
       "      <td>...</td>\n",
       "      <td>...</td>\n",
       "    </tr>\n",
       "    <tr>\n",
       "      <th>29781</th>\n",
       "      <td>G-Genito urinary system and sex hormones</td>\n",
       "      <td>Million US$, purchasing power parity</td>\n",
       "      <td>United Kingdom</td>\n",
       "      <td>2016</td>\n",
       "      <td>1032.7</td>\n",
       "    </tr>\n",
       "    <tr>\n",
       "      <th>29780</th>\n",
       "      <td>G-Genito urinary system and sex hormones</td>\n",
       "      <td>Million US$, purchasing power parity</td>\n",
       "      <td>United Kingdom</td>\n",
       "      <td>2015</td>\n",
       "      <td>1022.2</td>\n",
       "    </tr>\n",
       "    <tr>\n",
       "      <th>29779</th>\n",
       "      <td>G-Genito urinary system and sex hormones</td>\n",
       "      <td>Million US$, purchasing power parity</td>\n",
       "      <td>United Kingdom</td>\n",
       "      <td>2014</td>\n",
       "      <td>974.6</td>\n",
       "    </tr>\n",
       "    <tr>\n",
       "      <th>29792</th>\n",
       "      <td>G-Genito urinary system and sex hormones</td>\n",
       "      <td>/capita, US$ purchasing power parity</td>\n",
       "      <td>United Kingdom</td>\n",
       "      <td>2013</td>\n",
       "      <td>15.3</td>\n",
       "    </tr>\n",
       "    <tr>\n",
       "      <th>33661</th>\n",
       "      <td>H-Systemic hormonal preparations, excluding se...</td>\n",
       "      <td>Million of national currency units</td>\n",
       "      <td>United Kingdom</td>\n",
       "      <td>2018</td>\n",
       "      <td>442.9</td>\n",
       "    </tr>\n",
       "  </tbody>\n",
       "</table>\n",
       "<p>62544 rows × 5 columns</p>\n",
       "</div>"
      ],
      "text/plain": [
       "                                                Variable  \\\n",
       "0                             Total pharmaceutical sales   \n",
       "37893                          M-Musculo-skeletal system   \n",
       "37892                          M-Musculo-skeletal system   \n",
       "37891                          M-Musculo-skeletal system   \n",
       "37890                          M-Musculo-skeletal system   \n",
       "...                                                  ...   \n",
       "29781           G-Genito urinary system and sex hormones   \n",
       "29780           G-Genito urinary system and sex hormones   \n",
       "29779           G-Genito urinary system and sex hormones   \n",
       "29792           G-Genito urinary system and sex hormones   \n",
       "33661  H-Systemic hormonal preparations, excluding se...   \n",
       "\n",
       "                                    Measure         Country  Year   Value  \n",
       "0        Million of national currency units       Australia  2010  9795.0  \n",
       "37893    Million of national currency units       Australia  2013   378.0  \n",
       "37892    Million of national currency units       Australia  2012   312.0  \n",
       "37891    Million of national currency units       Australia  2011   309.0  \n",
       "37890    Million of national currency units       Australia  2010   324.0  \n",
       "...                                     ...             ...   ...     ...  \n",
       "29781  Million US$, purchasing power parity  United Kingdom  2016  1032.7  \n",
       "29780  Million US$, purchasing power parity  United Kingdom  2015  1022.2  \n",
       "29779  Million US$, purchasing power parity  United Kingdom  2014   974.6  \n",
       "29792  /capita, US$ purchasing power parity  United Kingdom  2013    15.3  \n",
       "33661    Million of national currency units  United Kingdom  2018   442.9  \n",
       "\n",
       "[62544 rows x 5 columns]"
      ]
     },
     "execution_count": 13,
     "metadata": {},
     "output_type": "execute_result"
    }
   ],
   "source": [
    "# Organizando pela coluna \"Country\"\n",
    "df_newhealth = df_newhealth.sort_values([\"Country\"])\n",
    "df_newhealth"
   ]
  },
  {
   "cell_type": "code",
   "execution_count": 14,
   "metadata": {},
   "outputs": [
    {
     "data": {
      "text/html": [
       "<div>\n",
       "<style scoped>\n",
       "    .dataframe tbody tr th:only-of-type {\n",
       "        vertical-align: middle;\n",
       "    }\n",
       "\n",
       "    .dataframe tbody tr th {\n",
       "        vertical-align: top;\n",
       "    }\n",
       "\n",
       "    .dataframe thead th {\n",
       "        text-align: right;\n",
       "    }\n",
       "</style>\n",
       "<table border=\"1\" class=\"dataframe\">\n",
       "  <thead>\n",
       "    <tr style=\"text-align: right;\">\n",
       "      <th></th>\n",
       "      <th>Entity</th>\n",
       "      <th>Year</th>\n",
       "      <th>Indicator:Maternal mortality ratio (per 100 000 live births)</th>\n",
       "    </tr>\n",
       "  </thead>\n",
       "  <tbody>\n",
       "    <tr>\n",
       "      <th>0</th>\n",
       "      <td>Afghanistan</td>\n",
       "      <td>2000</td>\n",
       "      <td>1450</td>\n",
       "    </tr>\n",
       "    <tr>\n",
       "      <th>17</th>\n",
       "      <td>Afghanistan</td>\n",
       "      <td>2017</td>\n",
       "      <td>638</td>\n",
       "    </tr>\n",
       "    <tr>\n",
       "      <th>16</th>\n",
       "      <td>Afghanistan</td>\n",
       "      <td>2016</td>\n",
       "      <td>673</td>\n",
       "    </tr>\n",
       "    <tr>\n",
       "      <th>15</th>\n",
       "      <td>Afghanistan</td>\n",
       "      <td>2015</td>\n",
       "      <td>701</td>\n",
       "    </tr>\n",
       "    <tr>\n",
       "      <th>14</th>\n",
       "      <td>Afghanistan</td>\n",
       "      <td>2014</td>\n",
       "      <td>786</td>\n",
       "    </tr>\n",
       "    <tr>\n",
       "      <th>...</th>\n",
       "      <td>...</td>\n",
       "      <td>...</td>\n",
       "      <td>...</td>\n",
       "    </tr>\n",
       "    <tr>\n",
       "      <th>3403</th>\n",
       "      <td>Zimbabwe</td>\n",
       "      <td>2001</td>\n",
       "      <td>629</td>\n",
       "    </tr>\n",
       "    <tr>\n",
       "      <th>3402</th>\n",
       "      <td>Zimbabwe</td>\n",
       "      <td>2000</td>\n",
       "      <td>579</td>\n",
       "    </tr>\n",
       "    <tr>\n",
       "      <th>3418</th>\n",
       "      <td>Zimbabwe</td>\n",
       "      <td>2016</td>\n",
       "      <td>468</td>\n",
       "    </tr>\n",
       "    <tr>\n",
       "      <th>3409</th>\n",
       "      <td>Zimbabwe</td>\n",
       "      <td>2007</td>\n",
       "      <td>671</td>\n",
       "    </tr>\n",
       "    <tr>\n",
       "      <th>3419</th>\n",
       "      <td>Zimbabwe</td>\n",
       "      <td>2017</td>\n",
       "      <td>458</td>\n",
       "    </tr>\n",
       "  </tbody>\n",
       "</table>\n",
       "<p>3420 rows × 3 columns</p>\n",
       "</div>"
      ],
      "text/plain": [
       "           Entity  Year  \\\n",
       "0     Afghanistan  2000   \n",
       "17    Afghanistan  2017   \n",
       "16    Afghanistan  2016   \n",
       "15    Afghanistan  2015   \n",
       "14    Afghanistan  2014   \n",
       "...           ...   ...   \n",
       "3403     Zimbabwe  2001   \n",
       "3402     Zimbabwe  2000   \n",
       "3418     Zimbabwe  2016   \n",
       "3409     Zimbabwe  2007   \n",
       "3419     Zimbabwe  2017   \n",
       "\n",
       "      Indicator:Maternal mortality ratio (per 100 000 live births)  \n",
       "0                                                  1450             \n",
       "17                                                  638             \n",
       "16                                                  673             \n",
       "15                                                  701             \n",
       "14                                                  786             \n",
       "...                                                 ...             \n",
       "3403                                                629             \n",
       "3402                                                579             \n",
       "3418                                                468             \n",
       "3409                                                671             \n",
       "3419                                                458             \n",
       "\n",
       "[3420 rows x 3 columns]"
      ]
     },
     "execution_count": 14,
     "metadata": {},
     "output_type": "execute_result"
    }
   ],
   "source": [
    "# Organizando pela coluna \"Entity\" \n",
    "df_newmortality.sort_values([\"Entity\"], inplace=True)\n",
    "df_newmortality"
   ]
  },
  {
   "cell_type": "code",
   "execution_count": 15,
   "metadata": {},
   "outputs": [
    {
     "name": "stdout",
     "output_type": "stream",
     "text": [
      "Valores nulos por coluna do dataframe:\n",
      "Variable    0\n",
      "Measure     0\n",
      "Country     0\n",
      "Year        0\n",
      "Value       0\n",
      "dtype: int64\n"
     ]
    }
   ],
   "source": [
    "# Não irei realizar a remoção de nulos, porque a pesquisa abaixo indica que não há valores nulos\n",
    "print(\"Valores nulos por coluna do dataframe:\")\n",
    "print(df_newhealth.isnull().sum())"
   ]
  },
  {
   "cell_type": "code",
   "execution_count": 16,
   "metadata": {},
   "outputs": [
    {
     "name": "stdout",
     "output_type": "stream",
     "text": [
      "Valores nulos por coluna do dataframe:\n",
      "Entity                                                          0\n",
      "Year                                                            0\n",
      "Indicator:Maternal mortality ratio (per 100 000 live births)    0\n",
      "dtype: int64\n"
     ]
    }
   ],
   "source": [
    "# Não irei realizar a remoção de nulos, porque a pesquisa abaixo indica que não há valores nulos\n",
    "print(\"Valores nulos por coluna do dataframe:\")\n",
    "print(df_newmortality.isnull().sum())"
   ]
  },
  {
   "cell_type": "code",
   "execution_count": 17,
   "metadata": {},
   "outputs": [],
   "source": [
    "# Resetando o index de cada banco de dados\n",
    "df_newhealth.reset_index(drop=True, inplace=True)"
   ]
  },
  {
   "cell_type": "code",
   "execution_count": 18,
   "metadata": {},
   "outputs": [],
   "source": [
    "# Resetando o index de cada banco de dados\n",
    "df_newmortality.reset_index(drop=True, inplace=True)"
   ]
  },
  {
   "cell_type": "markdown",
   "metadata": {},
   "source": [
    "# Conclusão\n",
    "Irei tentar verificar se há correlação entre vendas farmacêuticas e mortalidade materna."
   ]
  },
  {
   "cell_type": "code",
   "execution_count": 19,
   "metadata": {},
   "outputs": [],
   "source": [
    "import seaborn as sn"
   ]
  },
  {
   "cell_type": "markdown",
   "metadata": {},
   "source": [
    "Vou unir os dois dataframes em um só para fazer uma análise de correlação, mas antes vou editar o df de mortalidade mudando o nome da coluna Entity para Country - para ficar igual ao df de saúde. "
   ]
  },
  {
   "cell_type": "code",
   "execution_count": 20,
   "metadata": {},
   "outputs": [
    {
     "data": {
      "text/html": [
       "<div>\n",
       "<style scoped>\n",
       "    .dataframe tbody tr th:only-of-type {\n",
       "        vertical-align: middle;\n",
       "    }\n",
       "\n",
       "    .dataframe tbody tr th {\n",
       "        vertical-align: top;\n",
       "    }\n",
       "\n",
       "    .dataframe thead th {\n",
       "        text-align: right;\n",
       "    }\n",
       "</style>\n",
       "<table border=\"1\" class=\"dataframe\">\n",
       "  <thead>\n",
       "    <tr style=\"text-align: right;\">\n",
       "      <th></th>\n",
       "      <th>Country</th>\n",
       "      <th>Year</th>\n",
       "      <th>Indicator:Maternal mortality ratio (per 100 000 live births)</th>\n",
       "    </tr>\n",
       "  </thead>\n",
       "  <tbody>\n",
       "    <tr>\n",
       "      <th>0</th>\n",
       "      <td>Afghanistan</td>\n",
       "      <td>2000</td>\n",
       "      <td>1450</td>\n",
       "    </tr>\n",
       "    <tr>\n",
       "      <th>1</th>\n",
       "      <td>Afghanistan</td>\n",
       "      <td>2017</td>\n",
       "      <td>638</td>\n",
       "    </tr>\n",
       "    <tr>\n",
       "      <th>2</th>\n",
       "      <td>Afghanistan</td>\n",
       "      <td>2016</td>\n",
       "      <td>673</td>\n",
       "    </tr>\n",
       "    <tr>\n",
       "      <th>3</th>\n",
       "      <td>Afghanistan</td>\n",
       "      <td>2015</td>\n",
       "      <td>701</td>\n",
       "    </tr>\n",
       "    <tr>\n",
       "      <th>4</th>\n",
       "      <td>Afghanistan</td>\n",
       "      <td>2014</td>\n",
       "      <td>786</td>\n",
       "    </tr>\n",
       "    <tr>\n",
       "      <th>...</th>\n",
       "      <td>...</td>\n",
       "      <td>...</td>\n",
       "      <td>...</td>\n",
       "    </tr>\n",
       "    <tr>\n",
       "      <th>3415</th>\n",
       "      <td>Zimbabwe</td>\n",
       "      <td>2001</td>\n",
       "      <td>629</td>\n",
       "    </tr>\n",
       "    <tr>\n",
       "      <th>3416</th>\n",
       "      <td>Zimbabwe</td>\n",
       "      <td>2000</td>\n",
       "      <td>579</td>\n",
       "    </tr>\n",
       "    <tr>\n",
       "      <th>3417</th>\n",
       "      <td>Zimbabwe</td>\n",
       "      <td>2016</td>\n",
       "      <td>468</td>\n",
       "    </tr>\n",
       "    <tr>\n",
       "      <th>3418</th>\n",
       "      <td>Zimbabwe</td>\n",
       "      <td>2007</td>\n",
       "      <td>671</td>\n",
       "    </tr>\n",
       "    <tr>\n",
       "      <th>3419</th>\n",
       "      <td>Zimbabwe</td>\n",
       "      <td>2017</td>\n",
       "      <td>458</td>\n",
       "    </tr>\n",
       "  </tbody>\n",
       "</table>\n",
       "<p>3420 rows × 3 columns</p>\n",
       "</div>"
      ],
      "text/plain": [
       "          Country  Year  \\\n",
       "0     Afghanistan  2000   \n",
       "1     Afghanistan  2017   \n",
       "2     Afghanistan  2016   \n",
       "3     Afghanistan  2015   \n",
       "4     Afghanistan  2014   \n",
       "...           ...   ...   \n",
       "3415     Zimbabwe  2001   \n",
       "3416     Zimbabwe  2000   \n",
       "3417     Zimbabwe  2016   \n",
       "3418     Zimbabwe  2007   \n",
       "3419     Zimbabwe  2017   \n",
       "\n",
       "      Indicator:Maternal mortality ratio (per 100 000 live births)  \n",
       "0                                                  1450             \n",
       "1                                                   638             \n",
       "2                                                   673             \n",
       "3                                                   701             \n",
       "4                                                   786             \n",
       "...                                                 ...             \n",
       "3415                                                629             \n",
       "3416                                                579             \n",
       "3417                                                468             \n",
       "3418                                                671             \n",
       "3419                                                458             \n",
       "\n",
       "[3420 rows x 3 columns]"
      ]
     },
     "execution_count": 20,
     "metadata": {},
     "output_type": "execute_result"
    }
   ],
   "source": [
    "# Primeiro uma cópia do df de mortalidade materna\n",
    "df_mortalitycopy = df_newmortality.copy()\n",
    "df_mortalitycopy.rename(columns={'Entity': 'Country'}, inplace = True)\n",
    "df_mortalitycopy"
   ]
  },
  {
   "cell_type": "code",
   "execution_count": 21,
   "metadata": {},
   "outputs": [
    {
     "data": {
      "text/html": [
       "<div>\n",
       "<style scoped>\n",
       "    .dataframe tbody tr th:only-of-type {\n",
       "        vertical-align: middle;\n",
       "    }\n",
       "\n",
       "    .dataframe tbody tr th {\n",
       "        vertical-align: top;\n",
       "    }\n",
       "\n",
       "    .dataframe thead th {\n",
       "        text-align: right;\n",
       "    }\n",
       "</style>\n",
       "<table border=\"1\" class=\"dataframe\">\n",
       "  <thead>\n",
       "    <tr style=\"text-align: right;\">\n",
       "      <th></th>\n",
       "      <th>Country</th>\n",
       "      <th>Year</th>\n",
       "      <th>Indicator:Maternal mortality ratio (per 100 000 live births)</th>\n",
       "      <th>Variable</th>\n",
       "      <th>Measure</th>\n",
       "      <th>Value</th>\n",
       "    </tr>\n",
       "  </thead>\n",
       "  <tbody>\n",
       "    <tr>\n",
       "      <th>0</th>\n",
       "      <td>Australia</td>\n",
       "      <td>2016</td>\n",
       "      <td>6</td>\n",
       "      <td>B-Blood and blood forming organs</td>\n",
       "      <td>Million of national currency units</td>\n",
       "      <td>667.0</td>\n",
       "    </tr>\n",
       "    <tr>\n",
       "      <th>1</th>\n",
       "      <td>Australia</td>\n",
       "      <td>2016</td>\n",
       "      <td>6</td>\n",
       "      <td>M-Musculo-skeletal system</td>\n",
       "      <td>Million US$ at exchange rate</td>\n",
       "      <td>316.7</td>\n",
       "    </tr>\n",
       "    <tr>\n",
       "      <th>2</th>\n",
       "      <td>Australia</td>\n",
       "      <td>2016</td>\n",
       "      <td>6</td>\n",
       "      <td>M-Musculo-skeletal system</td>\n",
       "      <td>Million of national currency units</td>\n",
       "      <td>426.0</td>\n",
       "    </tr>\n",
       "  </tbody>\n",
       "</table>\n",
       "</div>"
      ],
      "text/plain": [
       "     Country  Year  \\\n",
       "0  Australia  2016   \n",
       "1  Australia  2016   \n",
       "2  Australia  2016   \n",
       "\n",
       "   Indicator:Maternal mortality ratio (per 100 000 live births)  \\\n",
       "0                                                  6              \n",
       "1                                                  6              \n",
       "2                                                  6              \n",
       "\n",
       "                           Variable                             Measure  Value  \n",
       "0  B-Blood and blood forming organs  Million of national currency units  667.0  \n",
       "1         M-Musculo-skeletal system        Million US$ at exchange rate  316.7  \n",
       "2         M-Musculo-skeletal system  Million of national currency units  426.0  "
      ]
     },
     "execution_count": 21,
     "metadata": {},
     "output_type": "execute_result"
    }
   ],
   "source": [
    "# Unindos os dataframes em um só\n",
    "df_correlation = pd.merge(df_mortalitycopy, df_newhealth, how = 'inner', on = ('Country','Year'))\n",
    "df_correlation.head(3)"
   ]
  },
  {
   "cell_type": "code",
   "execution_count": 22,
   "metadata": {},
   "outputs": [
    {
     "data": {
      "text/plain": [
       "Index(['Country', 'Year',\n",
       "       'Indicator:Maternal mortality ratio (per 100 000 live births)',\n",
       "       'Variable', 'Measure', 'Value'],\n",
       "      dtype='object')"
      ]
     },
     "execution_count": 22,
     "metadata": {},
     "output_type": "execute_result"
    }
   ],
   "source": [
    "df_correlation.columns"
   ]
  },
  {
   "cell_type": "code",
   "execution_count": 23,
   "metadata": {},
   "outputs": [
    {
     "data": {
      "text/html": [
       "<div>\n",
       "<style scoped>\n",
       "    .dataframe tbody tr th:only-of-type {\n",
       "        vertical-align: middle;\n",
       "    }\n",
       "\n",
       "    .dataframe tbody tr th {\n",
       "        vertical-align: top;\n",
       "    }\n",
       "\n",
       "    .dataframe thead th {\n",
       "        text-align: right;\n",
       "    }\n",
       "</style>\n",
       "<table border=\"1\" class=\"dataframe\">\n",
       "  <thead>\n",
       "    <tr style=\"text-align: right;\">\n",
       "      <th></th>\n",
       "      <th>Country</th>\n",
       "      <th>Year</th>\n",
       "      <th>Indicator:Maternal mortality ratio (per 100 000 live births)</th>\n",
       "      <th>Variable</th>\n",
       "      <th>Measure</th>\n",
       "      <th>Value</th>\n",
       "    </tr>\n",
       "  </thead>\n",
       "  <tbody>\n",
       "    <tr>\n",
       "      <th>0</th>\n",
       "      <td>Australia</td>\n",
       "      <td>2016</td>\n",
       "      <td>6</td>\n",
       "      <td>B-Blood and blood forming organs</td>\n",
       "      <td>Million of national currency units</td>\n",
       "      <td>667.0</td>\n",
       "    </tr>\n",
       "    <tr>\n",
       "      <th>1</th>\n",
       "      <td>Australia</td>\n",
       "      <td>2016</td>\n",
       "      <td>6</td>\n",
       "      <td>M-Musculo-skeletal system</td>\n",
       "      <td>Million US$ at exchange rate</td>\n",
       "      <td>316.7</td>\n",
       "    </tr>\n",
       "    <tr>\n",
       "      <th>2</th>\n",
       "      <td>Australia</td>\n",
       "      <td>2016</td>\n",
       "      <td>6</td>\n",
       "      <td>M-Musculo-skeletal system</td>\n",
       "      <td>Million of national currency units</td>\n",
       "      <td>426.0</td>\n",
       "    </tr>\n",
       "  </tbody>\n",
       "</table>\n",
       "</div>"
      ],
      "text/plain": [
       "     Country  Year  \\\n",
       "0  Australia  2016   \n",
       "1  Australia  2016   \n",
       "2  Australia  2016   \n",
       "\n",
       "   Indicator:Maternal mortality ratio (per 100 000 live births)  \\\n",
       "0                                                  6              \n",
       "1                                                  6              \n",
       "2                                                  6              \n",
       "\n",
       "                           Variable                             Measure  Value  \n",
       "0  B-Blood and blood forming organs  Million of national currency units  667.0  \n",
       "1         M-Musculo-skeletal system        Million US$ at exchange rate  316.7  \n",
       "2         M-Musculo-skeletal system  Million of national currency units  426.0  "
      ]
     },
     "execution_count": 23,
     "metadata": {},
     "output_type": "execute_result"
    }
   ],
   "source": [
    "df_correlation.head(3)"
   ]
  },
  {
   "cell_type": "code",
   "execution_count": 24,
   "metadata": {},
   "outputs": [],
   "source": [
    "# Vou mudar o nome das colunas para fazerem mais sentido \n",
    "df_correlation.rename(columns={'Variable': 'Type_of_Medicine'}, inplace = True)\n",
    "df_correlation.rename(columns={'Value': 'Total_Sales_Value'}, inplace = True)"
   ]
  },
  {
   "cell_type": "code",
   "execution_count": 26,
   "metadata": {},
   "outputs": [
    {
     "data": {
      "text/html": [
       "<div>\n",
       "<style scoped>\n",
       "    .dataframe tbody tr th:only-of-type {\n",
       "        vertical-align: middle;\n",
       "    }\n",
       "\n",
       "    .dataframe tbody tr th {\n",
       "        vertical-align: top;\n",
       "    }\n",
       "\n",
       "    .dataframe thead th {\n",
       "        text-align: right;\n",
       "    }\n",
       "</style>\n",
       "<table border=\"1\" class=\"dataframe\">\n",
       "  <thead>\n",
       "    <tr style=\"text-align: right;\">\n",
       "      <th></th>\n",
       "      <th>Year</th>\n",
       "      <th>Indicator:Maternal mortality ratio (per 100 000 live births)</th>\n",
       "      <th>Total_Sales_Value</th>\n",
       "    </tr>\n",
       "  </thead>\n",
       "  <tbody>\n",
       "    <tr>\n",
       "      <th>count</th>\n",
       "      <td>34193.000000</td>\n",
       "      <td>34193.000000</td>\n",
       "      <td>3.419300e+04</td>\n",
       "    </tr>\n",
       "    <tr>\n",
       "      <th>mean</th>\n",
       "      <td>2013.515135</td>\n",
       "      <td>8.310385</td>\n",
       "      <td>4.743234e+03</td>\n",
       "    </tr>\n",
       "    <tr>\n",
       "      <th>std</th>\n",
       "      <td>2.266302</td>\n",
       "      <td>6.548559</td>\n",
       "      <td>1.202409e+05</td>\n",
       "    </tr>\n",
       "    <tr>\n",
       "      <th>min</th>\n",
       "      <td>2010.000000</td>\n",
       "      <td>2.000000</td>\n",
       "      <td>0.000000e+00</td>\n",
       "    </tr>\n",
       "    <tr>\n",
       "      <th>25%</th>\n",
       "      <td>2012.000000</td>\n",
       "      <td>5.000000</td>\n",
       "      <td>4.600000e+00</td>\n",
       "    </tr>\n",
       "    <tr>\n",
       "      <th>50%</th>\n",
       "      <td>2014.000000</td>\n",
       "      <td>6.000000</td>\n",
       "      <td>2.050000e+01</td>\n",
       "    </tr>\n",
       "    <tr>\n",
       "      <th>75%</th>\n",
       "      <td>2015.000000</td>\n",
       "      <td>10.000000</td>\n",
       "      <td>1.518000e+02</td>\n",
       "    </tr>\n",
       "    <tr>\n",
       "      <th>max</th>\n",
       "      <td>2017.000000</td>\n",
       "      <td>46.000000</td>\n",
       "      <td>6.987367e+06</td>\n",
       "    </tr>\n",
       "  </tbody>\n",
       "</table>\n",
       "</div>"
      ],
      "text/plain": [
       "               Year  \\\n",
       "count  34193.000000   \n",
       "mean    2013.515135   \n",
       "std        2.266302   \n",
       "min     2010.000000   \n",
       "25%     2012.000000   \n",
       "50%     2014.000000   \n",
       "75%     2015.000000   \n",
       "max     2017.000000   \n",
       "\n",
       "       Indicator:Maternal mortality ratio (per 100 000 live births)  \\\n",
       "count                                       34193.000000              \n",
       "mean                                            8.310385              \n",
       "std                                             6.548559              \n",
       "min                                             2.000000              \n",
       "25%                                             5.000000              \n",
       "50%                                             6.000000              \n",
       "75%                                            10.000000              \n",
       "max                                            46.000000              \n",
       "\n",
       "       Total_Sales_Value  \n",
       "count       3.419300e+04  \n",
       "mean        4.743234e+03  \n",
       "std         1.202409e+05  \n",
       "min         0.000000e+00  \n",
       "25%         4.600000e+00  \n",
       "50%         2.050000e+01  \n",
       "75%         1.518000e+02  \n",
       "max         6.987367e+06  "
      ]
     },
     "execution_count": 26,
     "metadata": {},
     "output_type": "execute_result"
    }
   ],
   "source": [
    "# Dando uma verificada nos dados\n",
    "df_correlation.describe()"
   ]
  },
  {
   "cell_type": "code",
   "execution_count": 27,
   "metadata": {},
   "outputs": [],
   "source": [
    "# Vou excluir as colunas com dados string e manter só valores que quero relacionar\n",
    "df_correlationvalues = df_correlation.drop(columns= [\"Measure\",\"Country\", \"Year\", \"Type_of_Medicine\"])\n"
   ]
  },
  {
   "cell_type": "code",
   "execution_count": 28,
   "metadata": {},
   "outputs": [
    {
     "data": {
      "text/plain": [
       "Index(['Indicator:Maternal mortality ratio (per 100 000 live births)', 'Total_Sales_Value'], dtype='object')"
      ]
     },
     "execution_count": 28,
     "metadata": {},
     "output_type": "execute_result"
    }
   ],
   "source": [
    "df_correlationvalues.columns"
   ]
  },
  {
   "cell_type": "code",
   "execution_count": 29,
   "metadata": {},
   "outputs": [],
   "source": [
    "# Testando criar a correlação\n",
    "correlation = df_correlationvalues.corr()"
   ]
  },
  {
   "cell_type": "code",
   "execution_count": 30,
   "metadata": {},
   "outputs": [
    {
     "data": {
      "text/plain": [
       "<Axes: >"
      ]
     },
     "execution_count": 30,
     "metadata": {},
     "output_type": "execute_result"
    },
    {
     "data": {
      "image/png": "[encoded data removed]",
      "text/plain": [
       "<Figure size 640x480 with 2 Axes>"
      ]
     },
     "metadata": {},
     "output_type": "display_data"
    }
   ],
   "source": [
    "#Plot da matriz de correlação \n",
    "plot = sn.heatmap(correlation, annot = True, fmt=\".1f\", linewidths=.6)\n",
    "plot"
   ]
  },
  {
   "cell_type": "markdown",
   "metadata": {},
   "source": [
    "O insight por enquanto é que não tem correlação nenhuma, mas preciso limpar mais os dados, pensei em selecionar uma lista de países num ano específico ou um país ao longo do tempo - tentei fazer e não consegui :/"
   ]
  },
  {
   "cell_type": "markdown",
   "metadata": {},
   "source": [
    "# Finalizando salvando dataframe de correlação em csv"
   ]
  },
  {
   "cell_type": "code",
   "execution_count": 32,
   "metadata": {},
   "outputs": [],
   "source": [
    "df_correlation.to_csv(\"MaternalMortality_HealthIndicators.csv\")"
   ]
  }
 ],
 "metadata": {
  "kernelspec": {
   "display_name": "Python 3",
   "language": "python",
   "name": "python3"
  },
  "language_info": {
   "codemirror_mode": {
    "name": "ipython",
    "version": 3
   },
   "file_extension": ".py",
   "mimetype": "text/x-python",
   "name": "python",
   "nbconvert_exporter": "python",
   "pygments_lexer": "ipython3",
   "version": "3.11.4"
  }
 },
 "nbformat": 4,
 "nbformat_minor": 2
}
