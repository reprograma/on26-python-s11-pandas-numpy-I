{
 "cells": [
  {
   "cell_type": "markdown",
   "metadata": {},
   "source": [
    "## Um pouco sobre a base de dados \n",
    "\n",
    "O arquivo mostra dados coletados entre 2022 e 2023 pela Eurostat, uma organização europeia de estatística, que dizem respeito ao fluxo de imigrantes nos países europeus. São apresentadas informações como a quantidade de imigrantes com nacionalidade e sem nacionalidade residindo em cada país europeu e dados sobre o perfil dessa população, como o percentual de homens e mulheres e de pessoas provenientes de países-membros ou não da União Europeia."
   ]
  },
  {
   "cell_type": "markdown",
   "metadata": {},
   "source": [
    "## Importação das bibliotecas + leitura e visão geral da base de dados"
   ]
  },
  {
   "cell_type": "code",
   "execution_count": null,
   "metadata": {},
   "outputs": [],
   "source": [
    "import pandas as pd\n",
    "import numpy as np\n"
   ]
  },
  {
   "cell_type": "code",
   "execution_count": null,
   "metadata": {},
   "outputs": [],
   "source": [
    "df = pd.read_csv(\"EU Immigrants.csv\")\n",
    "\n",
    "df.head()\n"
   ]
  },
  {
   "cell_type": "code",
   "execution_count": null,
   "metadata": {},
   "outputs": [],
   "source": [
    "df.shape"
   ]
  },
  {
   "cell_type": "code",
   "execution_count": null,
   "metadata": {},
   "outputs": [],
   "source": [
    "df.columns"
   ]
  },
  {
   "cell_type": "code",
   "execution_count": null,
   "metadata": {},
   "outputs": [],
   "source": [
    "df_slice_sem_nulos = df[2:31] #separando a parte da tabela em que as linhas estão preenchidas para verificar se há dados duplicados nelas\n",
    "df_slice_sem_nulos\n",
    "\n",
    "df_slice_sem_nulos.duplicated() #verificando se há dados duplicados na parte da tabela que não apresenta linhas vazias (e não há dados duplicados)"
   ]
  },
  {
   "cell_type": "code",
   "execution_count": null,
   "metadata": {},
   "outputs": [],
   "source": [
    "#método incluído para contabilizar a quantidade de posições nulas na tabela \n",
    "df.isnull().sum()"
   ]
  },
  {
   "cell_type": "markdown",
   "metadata": {},
   "source": [
    "## Função para tratamento dos dados\n",
    "Esta função foi criada para:\n",
    "\n",
    "* Remover valores nulos (no caso deste DF em particular, as últimas 34 linhas)\n",
    "* Reordenar valores (arbitrariamente)\n",
    "* Excluir 1 coluna (arbitrariamente)\n",
    "* Resetar o índice\n",
    "* Exportar o DF modificado para csv\n"
   ]
  },
  {
   "cell_type": "code",
   "execution_count": null,
   "metadata": {},
   "outputs": [],
   "source": [
    "def processamento(df):\n",
    "   df.drop(columns=['IMMIGRANTS WITH NATIONALITY(THOUSANDS)'], inplace=True) #remove 1 coluna\n",
    "   df.dropna(subset=['EU COUNTRIES'], inplace=True)  #remove as 34 linhas finais, que estão vazias\n",
    "   df.sort_values(['PERCENTAGE OF IMMIGRANTS BY SEX(MALE)'], axis = 0, ascending=True, inplace=True) #coloca os percentuais dessa coluna em ordem crescente\n",
    "   df.reset_index(drop=True, inplace=True)\n",
    "   df.to_csv(\"exercicio_imigracao_ue.csv\")\n",
    "   \n",
    " \n",
    "   "
   ]
  },
  {
   "cell_type": "code",
   "execution_count": null,
   "metadata": {},
   "outputs": [],
   "source": [
    "copia_df_inicial = df.copy() #as alterações do tratamento de dados serão feitas nessa cópia\n",
    "copia_df_inicial"
   ]
  },
  {
   "cell_type": "code",
   "execution_count": null,
   "metadata": {},
   "outputs": [],
   "source": [
    "processamento(copia_df_inicial)\n",
    "copia_df_inicial"
   ]
  },
  {
   "cell_type": "markdown",
   "metadata": {},
   "source": [
    "## Insights\n",
    "### Algumas curiosidades aferidas...\n",
    "* A média do número de imigrantes nos países europeus no período contemplado pela pesquisa é de 127,5 (em milhares).\n",
    "* O país europeu com a maior população imigrante feminina é o Chipre, com 53,5% de mulheres neste grupo.\n",
    "* Já a Croácia é o país com a maior população imigrante masculina, contabilizando 72,7% de homens neste grupo.\n",
    "* Quase metade da população de imigrantes de Lieshtenstein provém de países que não fazem parte da União Europeia (47,3%). Este também é o país com o maior percentual de imigrantes (68,6%) em relação à população total, ou seja, há mais imigrantes do que locais vivendo em Lieshtenstein. \n",
    "* A Romênia, em contrapartida, apresenta o menor percentual de imigrantes nascidos em países que não fazem parte da União Europeia (0,7%) e o menor percentual de imigrantes em relação à população total (1,7%). "
   ]
  },
  {
   "cell_type": "code",
   "execution_count": null,
   "metadata": {},
   "outputs": [],
   "source": [
    "copia_df_inicial[['PERCENTAGE OF IMMIGRANTS BY SEX(FEMALE)', 'PERCENTAGE OF IMMIGRANTS BY SEX(MALE)']].max()\n"
   ]
  },
  {
   "cell_type": "code",
   "execution_count": null,
   "metadata": {},
   "outputs": [],
   "source": [
    "valor_min = copia_df_inicial['%AGE OF BORN IN NON-EU COUNTRY'].min()\n",
    "valor_min \n",
    "resultado = copia_df_inicial[copia_df_inicial['%AGE OF BORN IN NON-EU COUNTRY'] == valor_min]\n",
    "resultado"
   ]
  },
  {
   "cell_type": "code",
   "execution_count": null,
   "metadata": {},
   "outputs": [],
   "source": [
    "#valor_max = copia_df_inicial['%AGE OF BORN IN NON-EU COUNTRY'].max()\n",
    "#valor_max\n",
    "resultado = copia_df_inicial[copia_df_inicial['%AGE OF BORN IN NON-EU COUNTRY'] == valor_max]\n",
    "resultado"
   ]
  },
  {
   "cell_type": "code",
   "execution_count": null,
   "metadata": {},
   "outputs": [],
   "source": [
    "valor_max = copia_df_inicial['%AGE OF FOREIGN BORN IMMIGRANTS BY TOTAL POPULATION'].max()\n",
    "copia_df_inicial[copia_df_inicial['%AGE OF FOREIGN BORN IMMIGRANTS BY TOTAL POPULATION'] == valor_max]"
   ]
  },
  {
   "cell_type": "code",
   "execution_count": null,
   "metadata": {},
   "outputs": [],
   "source": [
    "valor_min = copia_df_inicial['%AGE OF FOREIGN BORN IMMIGRANTS BY TOTAL POPULATION'].min()\n",
    "copia_df_inicial[copia_df_inicial['%AGE OF FOREIGN BORN IMMIGRANTS BY TOTAL POPULATION'] == valor_min]"
   ]
  },
  {
   "cell_type": "code",
   "execution_count": null,
   "metadata": {},
   "outputs": [],
   "source": [
    "media_total_de_imigrantes = copia_df_inicial['TOTAL IMMIGRANTS(IN THOUSANDS)'].mean()\n",
    "media_total_de_imigrantes"
   ]
  }
 ],
 "metadata": {
  "kernelspec": {
   "display_name": "Python 3",
   "language": "python",
   "name": "python3"
  },
  "language_info": {
   "codemirror_mode": {
    "name": "ipython",
    "version": 3
   },
   "file_extension": ".py",
   "mimetype": "text/x-python",
   "name": "python",
   "nbconvert_exporter": "python",
   "pygments_lexer": "ipython3",
   "version": "3.11.1"
  }
 },
 "nbformat": 4,
 "nbformat_minor": 2
}
