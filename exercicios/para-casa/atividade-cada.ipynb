{
 "cells": [
  {
   "cell_type": "code",
   "execution_count": 95,
   "metadata": {},
   "outputs": [],
   "source": [
    "import pandas as pd"
   ]
  },
  {
   "cell_type": "code",
   "execution_count": 96,
   "metadata": {},
   "outputs": [],
   "source": [
    "import numpy as np"
   ]
  },
  {
   "cell_type": "code",
   "execution_count": 97,
   "metadata": {},
   "outputs": [],
   "source": [
    "df = pd.read_csv(\"C:\\\\Users\\\\nargy\\\\estudos\\\\Semana-11\\\\on26-python-s11-pandas-numpy-I\\\\material\\\\archive\\\\top100_kdrama.csv\")"
   ]
  },
  {
   "cell_type": "markdown",
   "metadata": {},
   "source": [
    "Os K-dramas são séries coreanas que se popularizaram nos últimos anos, sobretudo com o sucesso de \"Round 6\". O dataframe apresenta top 100 melhores dramas coreanos dada pelos usuários do site. É possível analisar o nome, o elenco, o ano que foi lançado, a sinopse e também o a média de nota dada pelos usuários. "
   ]
  },
  {
   "cell_type": "markdown",
   "metadata": {},
   "source": [
    "Após alguns testes no dataframe, percebi que não há fileiras com lacunas, toda estão devidamente preenchida, então a análise seguirá os seguintes pontos:\n",
    "- quais são as tags mais comuns entre os doramas populares?\n",
    "- quais gêneros se destacam?\n",
    "- qual plataforma de streaming possui maior visibilidade?\n",
    "- qual a classificação indicativa mais comum?"
   ]
  },
  {
   "cell_type": "code",
   "execution_count": 98,
   "metadata": {},
   "outputs": [
    {
     "data": {
      "text/html": [
       "<div>\n",
       "<style scoped>\n",
       "    .dataframe tbody tr th:only-of-type {\n",
       "        vertical-align: middle;\n",
       "    }\n",
       "\n",
       "    .dataframe tbody tr th {\n",
       "        vertical-align: top;\n",
       "    }\n",
       "\n",
       "    .dataframe thead th {\n",
       "        text-align: right;\n",
       "    }\n",
       "</style>\n",
       "<table border=\"1\" class=\"dataframe\">\n",
       "  <thead>\n",
       "    <tr style=\"text-align: right;\">\n",
       "      <th></th>\n",
       "      <th>Name</th>\n",
       "      <th>Year of release</th>\n",
       "      <th>Aired Date</th>\n",
       "      <th>Aired On</th>\n",
       "      <th>Number of Episode</th>\n",
       "      <th>Network</th>\n",
       "      <th>Duration</th>\n",
       "      <th>Content Rating</th>\n",
       "      <th>Synopsis</th>\n",
       "      <th>Cast</th>\n",
       "      <th>Genre</th>\n",
       "      <th>Tags</th>\n",
       "      <th>Rank</th>\n",
       "      <th>Rating</th>\n",
       "    </tr>\n",
       "  </thead>\n",
       "  <tbody>\n",
       "    <tr>\n",
       "      <th>0</th>\n",
       "      <td>Move to Heaven</td>\n",
       "      <td>2021</td>\n",
       "      <td>May 14, 2021</td>\n",
       "      <td>Friday</td>\n",
       "      <td>10</td>\n",
       "      <td>Netflix</td>\n",
       "      <td>52 min.</td>\n",
       "      <td>18+ Restricted (violence &amp; profanity)</td>\n",
       "      <td>Geu Roo is a young autistic man. He works for ...</td>\n",
       "      <td>Lee Je Hoon, Tang Jun Sang, Hong Seung Hee, Ju...</td>\n",
       "      <td>Life,  Drama,  Family</td>\n",
       "      <td>Autism, Uncle-Nephew Relationship, Death, Sava...</td>\n",
       "      <td>#1</td>\n",
       "      <td>9.2</td>\n",
       "    </tr>\n",
       "    <tr>\n",
       "      <th>1</th>\n",
       "      <td>Hospital Playlist</td>\n",
       "      <td>2020</td>\n",
       "      <td>Mar 12, 2020 - May 28, 2020</td>\n",
       "      <td>Thursday</td>\n",
       "      <td>12</td>\n",
       "      <td>Netflix,  tvN</td>\n",
       "      <td>1 hr. 30 min.</td>\n",
       "      <td>15+ - Teens 15 or older</td>\n",
       "      <td>The stories of people going through their days...</td>\n",
       "      <td>Jo Jung Suk, Yoo Yeon Seok, Jung Kyung Ho, Kim...</td>\n",
       "      <td>Friendship,  Romance,  Life,  Medical</td>\n",
       "      <td>Strong Friendship, Multiple Mains, Best Friend...</td>\n",
       "      <td>#2</td>\n",
       "      <td>9.1</td>\n",
       "    </tr>\n",
       "    <tr>\n",
       "      <th>2</th>\n",
       "      <td>Flower of Evil</td>\n",
       "      <td>2020</td>\n",
       "      <td>Jul 29, 2020 - Sep 23, 2020</td>\n",
       "      <td>Wednesday, Thursday</td>\n",
       "      <td>16</td>\n",
       "      <td>tvN</td>\n",
       "      <td>1 hr. 10 min.</td>\n",
       "      <td>15+ - Teens 15 or older</td>\n",
       "      <td>Although Baek Hee Sung is hiding a dark secret...</td>\n",
       "      <td>Lee Joon Gi, Moon Chae Won, Jang Hee Jin, Seo ...</td>\n",
       "      <td>Thriller,  Romance,  Crime,  Melodrama</td>\n",
       "      <td>Married Couple, Deception, Suspense, Family Se...</td>\n",
       "      <td>#3</td>\n",
       "      <td>9.1</td>\n",
       "    </tr>\n",
       "    <tr>\n",
       "      <th>3</th>\n",
       "      <td>Hospital Playlist 2</td>\n",
       "      <td>2021</td>\n",
       "      <td>Jun 17, 2021 - Sep 16, 2021</td>\n",
       "      <td>Thursday</td>\n",
       "      <td>12</td>\n",
       "      <td>Netflix,  tvN</td>\n",
       "      <td>1 hr. 40 min.</td>\n",
       "      <td>15+ - Teens 15 or older</td>\n",
       "      <td>Everyday is extraordinary for five doctors and...</td>\n",
       "      <td>Jo Jung Suk, Yoo Yeon Seok, Jung Kyung Ho, Kim...</td>\n",
       "      <td>Friendship,  Romance,  Life,  Medical</td>\n",
       "      <td>Workplace, Strong Friendship, Best Friends, Mu...</td>\n",
       "      <td>#4</td>\n",
       "      <td>9.1</td>\n",
       "    </tr>\n",
       "    <tr>\n",
       "      <th>4</th>\n",
       "      <td>My Mister</td>\n",
       "      <td>2018</td>\n",
       "      <td>Mar 21, 2018 - May 17, 2018</td>\n",
       "      <td>Wednesday, Thursday</td>\n",
       "      <td>16</td>\n",
       "      <td>tvN</td>\n",
       "      <td>1 hr. 17 min.</td>\n",
       "      <td>15+ - Teens 15 or older</td>\n",
       "      <td>Park Dong Hoon is a middle-aged engineer who i...</td>\n",
       "      <td>Lee Sun Kyun, IU, Park Ho San, Song Sae Byuk, ...</td>\n",
       "      <td>Psychological,  Life,  Drama,  Family</td>\n",
       "      <td>Age Gap, Nice Male Lead, Strong Female Lead, H...</td>\n",
       "      <td>#5</td>\n",
       "      <td>9.1</td>\n",
       "    </tr>\n",
       "    <tr>\n",
       "      <th>...</th>\n",
       "      <td>...</td>\n",
       "      <td>...</td>\n",
       "      <td>...</td>\n",
       "      <td>...</td>\n",
       "      <td>...</td>\n",
       "      <td>...</td>\n",
       "      <td>...</td>\n",
       "      <td>...</td>\n",
       "      <td>...</td>\n",
       "      <td>...</td>\n",
       "      <td>...</td>\n",
       "      <td>...</td>\n",
       "      <td>...</td>\n",
       "      <td>...</td>\n",
       "    </tr>\n",
       "    <tr>\n",
       "      <th>95</th>\n",
       "      <td>Vagabond</td>\n",
       "      <td>2019</td>\n",
       "      <td>Sep 20, 2019 - Nov 23, 2019</td>\n",
       "      <td>Friday, Saturday</td>\n",
       "      <td>16</td>\n",
       "      <td>Netflix,  SBS</td>\n",
       "      <td>1 hr. 10 min.</td>\n",
       "      <td>15+ - Teens 15 or older</td>\n",
       "      <td>Cha Dal Gun becomes an awakened tiger in the f...</td>\n",
       "      <td>Lee Seung Gi, Bae Suzy, Shin Sung Rok, Baek  Y...</td>\n",
       "      <td>Action,  Thriller,  Mystery,  Crime</td>\n",
       "      <td>Plane Crash, Revenge, National Intelligence Se...</td>\n",
       "      <td>#96</td>\n",
       "      <td>8.5</td>\n",
       "    </tr>\n",
       "    <tr>\n",
       "      <th>96</th>\n",
       "      <td>Doctor John</td>\n",
       "      <td>2019</td>\n",
       "      <td>Jul 19, 2019 - Sep  7, 2019</td>\n",
       "      <td>Friday, Saturday</td>\n",
       "      <td>32</td>\n",
       "      <td>SBS</td>\n",
       "      <td>35 min.</td>\n",
       "      <td>15+ - Teens 15 or older</td>\n",
       "      <td>“Doctor John” is a medical drama about doctors...</td>\n",
       "      <td>Ji Sung, Lee Se Young, Lee Kyu Hyung, Hwang He...</td>\n",
       "      <td>Mystery,  Romance,  Life,  Medical</td>\n",
       "      <td>Smart Male Lead, Incurable Disease, Eccentric ...</td>\n",
       "      <td>#97</td>\n",
       "      <td>8.5</td>\n",
       "    </tr>\n",
       "    <tr>\n",
       "      <th>97</th>\n",
       "      <td>When the Camellia Blooms</td>\n",
       "      <td>2019</td>\n",
       "      <td>Sep 18, 2019 - Nov 21, 2019</td>\n",
       "      <td>Wednesday, Thursday</td>\n",
       "      <td>40</td>\n",
       "      <td>KBS2,  Netflix</td>\n",
       "      <td>35 min.</td>\n",
       "      <td>15+ - Teens 15 or older</td>\n",
       "      <td>Dong Baek is a single mother living in the sma...</td>\n",
       "      <td>Gong Hyo Jin, Kang Ha Neul, Kim Ji Suk, Son Da...</td>\n",
       "      <td>Thriller,  Comedy,  Romance,  Drama,  Family</td>\n",
       "      <td>Single Mother, Mystery, Motherhood, Serial Kil...</td>\n",
       "      <td>#98</td>\n",
       "      <td>8.5</td>\n",
       "    </tr>\n",
       "    <tr>\n",
       "      <th>98</th>\n",
       "      <td>Because This Is My First Life</td>\n",
       "      <td>2017</td>\n",
       "      <td>Oct  9, 2017 - Nov 28, 2017</td>\n",
       "      <td>Monday, Tuesday</td>\n",
       "      <td>16</td>\n",
       "      <td>tvN</td>\n",
       "      <td>1 hr. 10 min.</td>\n",
       "      <td>15+ - Teens 15 or older</td>\n",
       "      <td>A house-poor man and homeless woman become hou...</td>\n",
       "      <td>Jung So Min, Lee Min Ki, Esom, Park Byung Eun,...</td>\n",
       "      <td>Comedy,  Romance,  Life,  Drama</td>\n",
       "      <td>Contract Relationship, Marriage Of Convenience...</td>\n",
       "      <td>#99</td>\n",
       "      <td>8.5</td>\n",
       "    </tr>\n",
       "    <tr>\n",
       "      <th>99</th>\n",
       "      <td>Fight For My Way</td>\n",
       "      <td>2017</td>\n",
       "      <td>May 22, 2017 - Jul 11, 2017</td>\n",
       "      <td>Monday, Tuesday</td>\n",
       "      <td>16</td>\n",
       "      <td>KBS2</td>\n",
       "      <td>60 min.</td>\n",
       "      <td>15+ - Teens 15 or older</td>\n",
       "      <td>Can you still go after your dreams without the...</td>\n",
       "      <td>Park Seo Joon, Kim Ji Won, Ahn Jae Hong, Song ...</td>\n",
       "      <td>Business,  Comedy,  Romance,  Sports</td>\n",
       "      <td>Childhood Friends, Friends To Lovers, Strong M...</td>\n",
       "      <td>#100</td>\n",
       "      <td>8.5</td>\n",
       "    </tr>\n",
       "  </tbody>\n",
       "</table>\n",
       "<p>100 rows × 14 columns</p>\n",
       "</div>"
      ],
      "text/plain": [
       "                             Name  Year of release  \\\n",
       "0                  Move to Heaven             2021   \n",
       "1               Hospital Playlist             2020   \n",
       "2                  Flower of Evil             2020   \n",
       "3             Hospital Playlist 2             2021   \n",
       "4                       My Mister             2018   \n",
       "..                            ...              ...   \n",
       "95                       Vagabond             2019   \n",
       "96                    Doctor John             2019   \n",
       "97       When the Camellia Blooms             2019   \n",
       "98  Because This Is My First Life             2017   \n",
       "99               Fight For My Way             2017   \n",
       "\n",
       "                     Aired Date              Aired On  Number of Episode  \\\n",
       "0                  May 14, 2021                Friday                 10   \n",
       "1   Mar 12, 2020 - May 28, 2020              Thursday                 12   \n",
       "2   Jul 29, 2020 - Sep 23, 2020   Wednesday, Thursday                 16   \n",
       "3   Jun 17, 2021 - Sep 16, 2021              Thursday                 12   \n",
       "4   Mar 21, 2018 - May 17, 2018   Wednesday, Thursday                 16   \n",
       "..                          ...                   ...                ...   \n",
       "95  Sep 20, 2019 - Nov 23, 2019      Friday, Saturday                 16   \n",
       "96  Jul 19, 2019 - Sep  7, 2019      Friday, Saturday                 32   \n",
       "97  Sep 18, 2019 - Nov 21, 2019   Wednesday, Thursday                 40   \n",
       "98  Oct  9, 2017 - Nov 28, 2017       Monday, Tuesday                 16   \n",
       "99  May 22, 2017 - Jul 11, 2017       Monday, Tuesday                 16   \n",
       "\n",
       "            Network       Duration                          Content Rating  \\\n",
       "0          Netflix         52 min.  18+ Restricted (violence & profanity)    \n",
       "1    Netflix,  tvN   1 hr. 30 min.                15+ - Teens 15 or older    \n",
       "2              tvN   1 hr. 10 min.                15+ - Teens 15 or older    \n",
       "3    Netflix,  tvN   1 hr. 40 min.                15+ - Teens 15 or older    \n",
       "4              tvN   1 hr. 17 min.                15+ - Teens 15 or older    \n",
       "..              ...            ...                                     ...   \n",
       "95   Netflix,  SBS   1 hr. 10 min.                15+ - Teens 15 or older    \n",
       "96             SBS         35 min.                15+ - Teens 15 or older    \n",
       "97  KBS2,  Netflix         35 min.                15+ - Teens 15 or older    \n",
       "98             tvN   1 hr. 10 min.                15+ - Teens 15 or older    \n",
       "99            KBS2         60 min.                15+ - Teens 15 or older    \n",
       "\n",
       "                                             Synopsis  \\\n",
       "0   Geu Roo is a young autistic man. He works for ...   \n",
       "1   The stories of people going through their days...   \n",
       "2   Although Baek Hee Sung is hiding a dark secret...   \n",
       "3   Everyday is extraordinary for five doctors and...   \n",
       "4   Park Dong Hoon is a middle-aged engineer who i...   \n",
       "..                                                ...   \n",
       "95  Cha Dal Gun becomes an awakened tiger in the f...   \n",
       "96  “Doctor John” is a medical drama about doctors...   \n",
       "97  Dong Baek is a single mother living in the sma...   \n",
       "98  A house-poor man and homeless woman become hou...   \n",
       "99  Can you still go after your dreams without the...   \n",
       "\n",
       "                                                 Cast  \\\n",
       "0   Lee Je Hoon, Tang Jun Sang, Hong Seung Hee, Ju...   \n",
       "1   Jo Jung Suk, Yoo Yeon Seok, Jung Kyung Ho, Kim...   \n",
       "2   Lee Joon Gi, Moon Chae Won, Jang Hee Jin, Seo ...   \n",
       "3   Jo Jung Suk, Yoo Yeon Seok, Jung Kyung Ho, Kim...   \n",
       "4   Lee Sun Kyun, IU, Park Ho San, Song Sae Byuk, ...   \n",
       "..                                                ...   \n",
       "95  Lee Seung Gi, Bae Suzy, Shin Sung Rok, Baek  Y...   \n",
       "96  Ji Sung, Lee Se Young, Lee Kyu Hyung, Hwang He...   \n",
       "97  Gong Hyo Jin, Kang Ha Neul, Kim Ji Suk, Son Da...   \n",
       "98  Jung So Min, Lee Min Ki, Esom, Park Byung Eun,...   \n",
       "99  Park Seo Joon, Kim Ji Won, Ahn Jae Hong, Song ...   \n",
       "\n",
       "                                            Genre  \\\n",
       "0                          Life,  Drama,  Family    \n",
       "1          Friendship,  Romance,  Life,  Medical    \n",
       "2         Thriller,  Romance,  Crime,  Melodrama    \n",
       "3          Friendship,  Romance,  Life,  Medical    \n",
       "4          Psychological,  Life,  Drama,  Family    \n",
       "..                                            ...   \n",
       "95           Action,  Thriller,  Mystery,  Crime    \n",
       "96            Mystery,  Romance,  Life,  Medical    \n",
       "97  Thriller,  Comedy,  Romance,  Drama,  Family    \n",
       "98               Comedy,  Romance,  Life,  Drama    \n",
       "99          Business,  Comedy,  Romance,  Sports    \n",
       "\n",
       "                                                 Tags  Rank  Rating  \n",
       "0   Autism, Uncle-Nephew Relationship, Death, Sava...    #1     9.2  \n",
       "1   Strong Friendship, Multiple Mains, Best Friend...    #2     9.1  \n",
       "2   Married Couple, Deception, Suspense, Family Se...    #3     9.1  \n",
       "3   Workplace, Strong Friendship, Best Friends, Mu...    #4     9.1  \n",
       "4   Age Gap, Nice Male Lead, Strong Female Lead, H...    #5     9.1  \n",
       "..                                                ...   ...     ...  \n",
       "95  Plane Crash, Revenge, National Intelligence Se...   #96     8.5  \n",
       "96  Smart Male Lead, Incurable Disease, Eccentric ...   #97     8.5  \n",
       "97  Single Mother, Mystery, Motherhood, Serial Kil...   #98     8.5  \n",
       "98  Contract Relationship, Marriage Of Convenience...   #99     8.5  \n",
       "99  Childhood Friends, Friends To Lovers, Strong M...  #100     8.5  \n",
       "\n",
       "[100 rows x 14 columns]"
      ]
     },
     "execution_count": 98,
     "metadata": {},
     "output_type": "execute_result"
    }
   ],
   "source": [
    "df"
   ]
  },
  {
   "cell_type": "code",
   "execution_count": 106,
   "metadata": {},
   "outputs": [
    {
     "data": {
      "text/plain": [
       "(100, 14)"
      ]
     },
     "execution_count": 106,
     "metadata": {},
     "output_type": "execute_result"
    }
   ],
   "source": [
    "df = df.drop_duplicates()\n",
    "df.shape"
   ]
  },
  {
   "cell_type": "code",
   "execution_count": 99,
   "metadata": {},
   "outputs": [],
   "source": [
    "#Vou também fazer uma análise específica para o TOP 10 melhores k-dramas"
   ]
  },
  {
   "cell_type": "code",
   "execution_count": 100,
   "metadata": {},
   "outputs": [
    {
     "name": "stdout",
     "output_type": "stream",
     "text": [
      "['1980s, Nurse, Rich Man/Poor Woman, Gwangju Uprising, Medical Student, Strong Female Lead, Smart Female Lead, Forbidden Love, Star Crossed Lovers, Tearjerker', '1980s, Police Procedural, Bromance, Calm Male Lead, Smart Male Lead, Strong Friendship, Hallucination, Strong Female Lead, Serial Killer, Coma', 'Abuse, Soldier, Military Abuse, Violence, PTSD, Bromance, Overcoming Trauma, Adapted From A Webtoon, Sexual Assault, Desertion', 'Adapted From A Webtoon, Murder, PTSD, Gaslighting, Mental Illness, Mental Torment, Hostel, Trauma, Torture, Psychopath', 'Adapted From A Webtoon, Steamy Kiss, Male Chases Female First, Boss-Employee Relationship, Office Romance, Rich Male Lead, Calm Female Lead, Trauma, Smart Female Lead, Secretary', 'Adapted From A Webtoon, Taxi, Strong Male Lead, Investigation, Secret Organization, Smart Female Lead, Taxi Driver, Antihero, Calm Male Lead, Strong Female Lead', 'Afterlife, Tragic Past, Grudge, Hot-tempered Female Lead, Spirit, Adapted From A Webtoon, Special Power, Family Relationship, Flashback To Past, Food', 'Age Gap, Nice Male Lead, Strong Female Lead, Hardship, Smart Female Lead, Healing, Depression, Poor Female Lead, Workplace, Infidelity', 'Alien, Interspecies Romance, Famous Actress, Celebrity, Professor, Sassy Female Lead, Superhuman Strength, Time Manipulation, Cyberbullying, Star Crossed Lovers', 'Autism, Uncle-Nephew Relationship, Death, Savant Syndrome, Mourning, Tearjerker, Father-Son Relationship, Life Lesson, Ex-convict, Cleaning And Organizing', 'Badass Male Lead, Gang, Bromance, Strong Female Lead, Gangster, Strong Male Lead, Smart Male Lead, Sismance, Steamy Kiss, Drug Dealer', 'Badass Male Lead, Priest, Eccentric Male Lead, Sassy Female Lead, Bromance, Aggressive Male Lead, Church, Strong Friendship, PTSD, Sismance', 'Ballet, Dream, Life Lesson, Old-Young Generation, Unusual Friendship, Ballet Dancer, Personal Growth, Adapted From A Webtoon, Father-Son Relationship, Second Chance', 'Best Friends, Life Lesson, Female Centered Plot, Senior Citizen, Mother-Son Relationship, Mother-Daughter Relationship, Multiple Couples, Single Mother, Sismance, Family Conflict', 'Betrayal, Revenge, Greed, Jealousy, Female Centered Plot, Married Couple, Opera Singer, Motherhood, Twins, School Bullying', 'Boss-Employee Relationship, Immortal, Strong Female Lead, Ghost, Ghost-seeing Male Lead, Supernatural, Hotel, Rich Female Lead, Nice Male Lead, Strong Friendship', 'Career Woman, Slice Of Life, Friendship, Mixed Live Action-Animation, Office Worker, Workplace, Adapted From A Webtoon, Honest Male Lead, Game Developer, Personal Growth', 'Childhood Friends, Friends To Lovers, Strong Male Lead, Strong Female Lead, Neighbors, Strong Friendship, Personal Growth, Character Development, Secondary Couple, Ex-girlfriend Comes Back', 'Childhood Friends, High School, 1990s, Strong Friendship, First Love, Best Friends, Friends To Lovers, Bromance, Love Square, Unrequited Love', 'Coliving, Boarding House, Charismatic Female Lead, Legend, Rural Life, Working Mom, Athlete, Tough Female Lead, Tough Male Lead, Badminton', 'College Life, Dream, Friends To Lovers, Weightlifting, Strong Female Lead, Bantering Relationship, Male Chases Female First, Tomboy, Swimming, Sismance', 'Con Artist, Ghost-seeing Male Lead, Spirit, Missing Person, Detective, Hacker, Bromance, Social Justice, Righteous Male Lead, Death', 'Contract Relationship, Marriage Of Convenience, Housemates, Eccentric Male Lead, Multiple Couples, Cohabitation, Sismance, Nerdy Male Lead, Writer, Multiple Mains', 'Cooking, Strong Female Lead, Royal Rules And Etiquette, Joseon Dynasty, Royal Cook, Doctor Female Lead, Faithful Male Lead, Smart Female Lead, Melodrama, Drama', 'Corruption, Calm Male Lead, Smart Male Lead, Suspense, Emotional Blunting, Power Struggle, Strong Female Lead, Strong Male Lead, Policewoman, Alexithymia', 'Cult, Adapted From A Webtoon, Church, Strong Female Lead, Bromance, School Bullying, Smart Female Lead, Deception, Strong Male Lead, Ex-convict', 'Death, Death Game, Poor Male Lead, Extreme Violence, Debt, Gore, Competition, Game Show, Survival, Murder', 'Determined Male Lead, Investigation, Suspense, Murder, Wrongfully Accused, Psychological Manipulation, Smart Male Lead, Trauma, Serial Killer, Obsession', 'Different Timelines, Hwaseong Serial Murders, Murder, Criminal Profiler, Serial Killer, Tragic Past, Smart Female Lead, Corruption, Time Altering, Kidnapping', 'Disease, Strong Female Lead, Survival, Virus, Fake Marriage, Zombies, Discrimination, Slow Burn Romance, Infectious Disease, Illness', 'Dissociative Identity Disorder, Trauma, Boss-Employee Relationship, Rich Male Lead, Mental Health, PTSD, Psychiatry, Nice Male Lead, Mean Male Lead, Rich Man/Poor Woman', 'Divorce, Family Relationship, Multiple Couples, Multiple Mains, Marriage, Slice Of Life, Married Couple, Age Gap, Sibling, Secret Relationship', 'Double Identity, Hidden Identity, Smart Male Lead, Strong Male Lead, Childish Female Lead, Fight, Secret, Sassy Female Lead, Reporter, Trauma', 'Eccentric Male Lead, Corruption, Bromance, Social Satire, Smart Male Lead, Revenge, Accountant, Enemy Mine, Smart Female Lead, Strong Female Lead', 'Exorcism, Death, Demon, Possessed, Shamanism, Murder, Psychic, Strong Female Lead, Priest, Policewoman', 'Family Secret, Sisterhood, Eccentric Female Lead, Fake Incest, Multiple Couples, Strong Female Lead, Father-Daughter Relationship, Mother-Daughter Relationship, Mother-Son Relationship, Father-Son Relationship', 'Forensic Science, Prosecutor Female Lead, Doctor Male Lead, Rich Female Lead, Death, Murder, Investigation', 'Ghost, Eccentric Female Lead, Rich Male Lead, Clingy Female Lead, Successful Male Lead, Obsession, Tragic Past, Trauma, Secondary Couple, Eccentric Male Lead', 'Goryeo Dynasty, Power Struggle, Sibling Rivalry, Tearjerker, Adapted From A Novel, Time Travel, Death, Gwangjong, Reverse-Harem, Obsession', 'Hardworking Female Lead, Baseball, Hardworking Male Lead, Workplace, Teamwork, General Manager, Corruption, Successful Male Lead, Tough Male Lead, Calm Male Lead', 'Hospital, Smart Male Lead, Character Development, Bickering Couple, Love/Hate Relationship, Smart Female Lead, Hardworking Female Lead, Nurse, Healing, Nervous Female Lead', 'Housemates, Bromance, Friends To Lovers, Motherhood, Cohabitation, Babysitting, Single Mother, Actor, Childhood Friends, Secondary Couple', 'Housemates, Female Centered Plot, Sismance, Multiple Mains, College Life, Coming Of Age, Strong Female Lead, Strong Female Characters, Hardworking Female Lead, Multiple Couples', 'Independent Female Lead, Strong Male Lead, Strong Female Lead, Smart Male Lead, Bromance, Soldier, Foreigner, Rebellion, Japanese Colonial Rule, Sismance', 'Japanese Colonial Rule, Hidden Identity, Revenge, Rebellion, Murder, Love Triangle, Adapted From A Manhwa, Investigation, Drama, Sword-fight', 'Joseon Dynasty, Adapted From A Webtoon, Power Struggle, Gore, Nice Male Lead, Strong Male Lead, Survival, Corruption, Strong Female Lead, Epidemic', 'Judge, Tough Past, Dystopia, Antihero, Bromance, Hardworking Male Lead, Courtroom, Corruption, Strong Female Lead, Mysterious Male Lead', 'Mafia, Revenge, Smart Male Lead, Eccentric Female Lead, Injustice, Charming Male Lead, Bromance, Father-Daughter Relationship, Badass Male Lead, Smart Female Lead', 'Married Couple, Deception, Suspense, Family Secret, Hidden Personality, Smart Female Lead, Antisocial Personality Disorder, Investigation, Serial Killer, Psychopath', 'Monsters, Gore, Survival, Character Development, Adapted From A Webtoon, Supernatural Phenomena, Multiple Mains, Trauma, School Bullying, Attempted Suicide', 'Mother-Daughter Relationship, Independent Female Lead, Orphan Female Lead, Smart Female Lead, Child Abuse, Adoption, Strong Female Lead, Motherhood, Psychopath, Cohabitation', 'Multiple Mains, Social Commentary, Sibling, Medical, Social Satire, Female Centered Plot, Satire, Hospital, Mother-Daughter Relationship, Death', 'Neighbors, Slice Of Life, Childhood Friends, Multiple Couples, Nostalgia, Poor Family, Love Triangle, Best Friends, Heartfelt, High School', 'North And South Korea, Star Crossed Lovers, Lovers From Different Countries, Strong Male Lead, Army Officer, Rich Female Lead, North Korean, Soldier, Fate, Nice Male Lead', 'Office Worker, Workplace Abuse, Teamwork, Adapted From A Webtoon, Hardworking Male Lead, Workplace, Smart Female Lead, Strong Female Lead, Nice Male Lead, Hardworking Female Lead', 'Plane Crash, Revenge, National Intelligence Service, Corruption, Agent, Death Of A Child, Death, Spy, Strong Male Lead, Terrorist', 'Power Struggle, Conspiracy, Blue House, Lying, Social Commentary, Terrorism, Deception, National Intelligence Service, National Assembly, Death', 'Power Struggle, Multiple Mains, Curse, Hidden Identity, Identical Twins, Strong Female Lead, War, Orphan Male Lead, Slavery, Shamanism', 'Power Struggle, War, Supernatural Power, Strong Female Lead, Identical Twins, Curse, Revenge, Superhuman Strength, Pre-produced, Sibling', 'Precognition, Nice Male Lead, Neighbors, Murder, Tragic Past, Childhood Acquaintance, Smart Male Lead, Steamy Kiss, Strong Female Lead, Healing', 'Prison, Bromance, Wrongfully Accused, Life Lesson, Slight Romance, Strong Male Lead, Character Development, Baseball, Gangster, Murder', 'Prison, Murder, Amnesia, Wrongfully Accused, Identity Swap, Bromance, Prisoner, Identical Twins, Suspense, Good Twin/Evil Twin', 'Psychopath, Murder, Serial Killer, Investigation, Character Development, Detective, Neurosurgeon, Extreme Violence, Child Sexual Abuse, Flashback To Past', 'Psychopath, Murder, Teamwork, Serial Killer, Strong Male Lead, Gangster, Smart Male Lead, Skilled Killer, Violence, Death', 'Rebellion, Joseon Dynasty, Strong Male Lead, Smart Male Lead, Corruption, Slave, Discrimination, Bromance, Superhuman Strength, Revenge', 'Reincarnation, Strong Friendship, Writer, Hardworking Male Lead, Hardworking Female Lead, Strong Female Lead, Successful Male Lead, Bromance, Flashback To Past, Tragic Past', 'Revenge, Corruption, High Class Society, Female Centered Plot, Greed, Infidelity, Murder, Family Relationship, Betrayal, Married Couple', 'Revenge, Sismance, Female Centered Plot, Strong Female Lead, Strong Female Characters, Healing, Smart Male Lead, Mother-Son Relationship, Mother-Daughter Relationship, Tragic Past', 'Revenge, Undercover Agent, Strong Female Lead, Double Identity, Crime Boss, Gang, Noir, Strong Male Lead, Drugs, Death', 'Revolution, Power Struggle, Political Intrigue, Sword-fight, Taejong, Scheme, Taejo, Smart Male Lead, Goryeo Dynasty, Bromance', 'Rural Village, Dentist, Healing, Kind-hearted Male Lead, Nice Female Lead, Cheerful Male Lead, Nice Male Lead, Bickering Couple, Rural Life, Hardworking Male Lead', 'School Bullying, Family Relationship, Coma, Tearjerker, Sibling, Student, Psychopath, High School, Married Couple, Strong Female Lead', 'Second Chance, Personal Growth, First Love, Return To Past, Father-Son Relationship, Divorce, Remake, Married Couple, Hardworking Female Lead, Father-Daughter Relationship', 'Sibling Relationship, Melodrama, Mental Health, Independent Female Lead, Emotionally Wounded, Successful Female Lead, Healing, Caregiver, Childhood Connection, Psychiatry', 'Single Mother, Mystery, Motherhood, Serial Killer, Mother-Son Relationship, Hardworking Female Lead, Dorky Male Lead, Male Chases Female First, Nice Male Lead, Independent Female Lead', 'Smart Female Lead, Rich Female Lead, Art Gallery, Rich Male Lead, Multilingual, Bankruptcy, Art, Eccentric Male Lead, Healthy Mains’ Relationship, Male Chases Female First', 'Smart Female Lead, Strong Female Lead, Power Struggle, Possessive Male Lead, Love Triangle, Female Warrior, Yuan Dynasty, Revenge, Cross-Dressing, Goryeo Dynasty', 'Smart Male Lead, Incurable Disease, Eccentric Male Lead, Euthanasia, Hardworking Male Lead, PTSD, Ex-convict, Secret, Trauma, Tragic Past', 'Smart Male Lead, School, Student, University, Death, Hardworking Female Lead, Rich Male Lead, Law Student, Campus Life, Nice Male Lead', 'Smart Male Lead, Transmigration, Calm Male Lead, Joseon Dynasty, Time Travel, Sassy Female Lead, Body Swap, Gender Swap, Eccentric Female Lead, Power Struggle', 'Soldier, Hardworking Female Lead, Multiple Couples, Bromance, Hardworking Male Lead, Charming Male Lead, Gun Violence, Filmed Abroad, Friendship, Strong Friendship', 'Special Power, Revenge, Smart Female Lead, Trauma, Strong Female Lead, Older Woman/Younger Man, Male Chases Female First, Age Gap, Mind Reading, Cohabitation', 'Special Power, Righteous Male Lead, Evil Spirit, Strong Female Lead, Multiple Mains, Orphan Male Lead, Spirit, School Bullying, Childhood Trauma, Nice Male Lead', 'Strong Female Lead, Female Lead Action Scenes, Love Triangle, Superhuman Strength, Strong Female Characters, Game Developer, Gangster, Nice Male Lead, Bodyguard, Workplace', 'Strong Female Lead, Psychiatry, Mental Health, Trauma, Charming Male Lead, Healing, Adult Romance, Melodrama, Cohabitation, Housemates', 'Strong Female Lead, Smart Female Lead, Unusual Friendship, Murder, Death, Strong Friendship, Guilt, Calm Female Lead, Serial Killer, Trauma', 'Strong Female Lead, Time Travel, Nice Male Lead, Suspense, Murder, Detective, Fate, Supernatural, Accident, Webtoon Writer', 'Strong Friendship, Multiple Mains, Best Friends, Hospital, Slow Romance, Strong Female Lead, Multiple Couples, Slight Romance, Nice Male Lead, Bromance', 'Supernatural, Grim Reaper, Older Man/Younger Woman, Interspecies Romance, Dokkaebi, Fate, Tearjerker, Bromance, Death, Heartfelt', 'Surgeon, Strong Male Lead, Smart Male Lead, Strong Female Characters, Hardworking Female Lead, Hardworking Male Lead, Character Development, Smart Female Lead, Boss-Employee Relationship, Slow Burn Romance', 'Suspense, Investigation, Corruption, Crime Solving Duo, Murder, Calm Male Lead, Alexithymia, Emotionless Male Lead, Strong Female Lead, Smart Female Lead', 'Teamwork, Violence, Strong Friendship, Slice Of Life, Policewoman, Strong Female Lead, Smart Female Lead, Male Chases Female First, Rape, Nice Male Lead', 'Time Altering, Past And Present, Hardworking Male Lead, Smart Male Lead, Family Secret, Rich Male Lead, Betrayal, Gaslighting, Different Timelines, Successful Male Lead', 'Time Travel, Love/Hate Relationship, Marriage, Mother-Daughter Relationship, Misunderstanding, 1990s, Failing Marriage, Married Couple, Sassy Female Lead, Sismance', 'Time Travel, Murder, Criminal Profiler, Serial Killer, Bromance, Hardworking Male Lead, Hidden Identity, Strong Female Lead, Character Development, Slight Romance', 'Trauma, Child Abuse, Smart Female Lead, Child Behavior Issues, Abuse, Murder, Tragic Past, Psychiatry, Child Abandonment, Domestic Violence', 'Trauma, Healing, Survivor Guilt, Hardworking Female Lead, Strong Female Lead, Tearjerker, Hardworking Male Lead, Phobia, Disaster, Poor Male Lead', 'Twins, War, Power Struggle, Revenge, Slavery, Good Twin/Evil Twin, Strong Female Lead, Character Development, Father-Daughter Relationship, Sibling', 'Workplace, Strong Friendship, Best Friends, Multiple Mains, Band, Music, Strong Female Lead, Multiple Couples, Comedy, Hospital', 'Zombies, Corruption, Strong Male Lead, Gore, Strong Female Lead, Power Struggle, Smart Female Lead, Death, Palace Politics, Greed']\n"
     ]
    }
   ],
   "source": [
    "#palavras que mais se repetem na tag\n",
    "palavra_freq_tag = df['Tags'].mode()\n",
    "palavra_freq_tag = palavra_freq_tag.to_list()\n",
    "print(palavra_freq_tag)"
   ]
  },
  {
   "cell_type": "code",
   "execution_count": 101,
   "metadata": {},
   "outputs": [
    {
     "name": "stdout",
     "output_type": "stream",
     "text": [
      "Tags\n",
      "Lead,            201\n",
      "Female           125\n",
      "Male             118\n",
      "Strong            74\n",
      "Smart             41\n",
      "Relationship,     31\n",
      "Hardworking       22\n",
      "Lead              19\n",
      "Bromance,         19\n",
      "Multiple          18\n",
      "Name: count, dtype: int64\n"
     ]
    }
   ],
   "source": [
    "cont_palavras_tag = df['Tags'].str.split().explode().value_counts()\n",
    "N = 10 \n",
    "palavras_freq_tag = cont_palavras_tag.head(N)\n",
    "print(palavras_freq_tag)  "
   ]
  },
  {
   "cell_type": "markdown",
   "metadata": {},
   "source": [
    "#contagem de gêneros mais populares"
   ]
  },
  {
   "cell_type": "code",
   "execution_count": 102,
   "metadata": {},
   "outputs": [
    {
     "name": "stdout",
     "output_type": "stream",
     "text": [
      "['Psychological,  Comedy,  Romance,  Drama ']\n"
     ]
    }
   ],
   "source": [
    "genre_freq = df['Genre'].mode()\n",
    "genre_freq = genre_freq.to_list()\n",
    "print(genre_freq)"
   ]
  },
  {
   "cell_type": "code",
   "execution_count": 103,
   "metadata": {},
   "outputs": [
    {
     "name": "stdout",
     "output_type": "stream",
     "text": [
      "Genre\n",
      "Romance,       45\n",
      "Comedy,        36\n",
      "Thriller,      33\n",
      "Mystery,       33\n",
      "Drama,         28\n",
      "Drama          24\n",
      "Action,        19\n",
      "Life,          17\n",
      "Historical,    14\n",
      "Melodrama      13\n",
      "Name: count, dtype: int64\n"
     ]
    }
   ],
   "source": [
    "cont_palavras_genre= df['Genre'].str.split().explode().value_counts()\n",
    "N = 10 \n",
    "genre_freq = cont_palavras_genre.head(N)\n",
    "print(genre_freq)"
   ]
  },
  {
   "cell_type": "code",
   "execution_count": null,
   "metadata": {},
   "outputs": [],
   "source": [
    "#nessa parte, Drama repetiu duas vezes e eu não sei como arrumar"
   ]
  },
  {
   "cell_type": "code",
   "execution_count": 122,
   "metadata": {},
   "outputs": [
    {
     "name": "stdout",
     "output_type": "stream",
     "text": [
      "0    2021\n",
      "Name: Year of release, dtype: int64\n"
     ]
    }
   ],
   "source": [
    "#o ano em que mais lançaram k-dramas\n",
    "year_freq = df['Year of release'].mode()\n",
    "print(year_freq)"
   ]
  },
  {
   "cell_type": "code",
   "execution_count": 126,
   "metadata": {},
   "outputs": [
    {
     "name": "stdout",
     "output_type": "stream",
     "text": [
      "Year of release\n",
      "2021    19\n",
      "2020    17\n",
      "Name: count, dtype: int64\n"
     ]
    }
   ],
   "source": [
    "cont_year = df['Year of release'].value_counts()\n",
    "N = 2\n",
    "year_freq = cont_year.head(N)\n",
    "print(year_freq)"
   ]
  },
  {
   "cell_type": "code",
   "execution_count": 131,
   "metadata": {},
   "outputs": [
    {
     "name": "stdout",
     "output_type": "stream",
     "text": [
      "['tvN ']\n"
     ]
    }
   ],
   "source": [
    "#A rede que mais produziu\n",
    "network_freq = df['Network'].mode()\n",
    "network_freq = network_freq.to_list()\n",
    "print(network_freq)"
   ]
  },
  {
   "cell_type": "code",
   "execution_count": 133,
   "metadata": {},
   "outputs": [
    {
     "name": "stdout",
     "output_type": "stream",
     "text": [
      "Network\n",
      "tvN         35\n",
      "Netflix,    19\n",
      "SBS         19\n",
      "Name: count, dtype: int64\n"
     ]
    }
   ],
   "source": [
    "cont_palavras_network= df['Network'].str.split().explode().value_counts()\n",
    "N = 3 \n",
    "network_freq = cont_palavras_network.head(N)\n",
    "print(network_freq)"
   ]
  },
  {
   "cell_type": "markdown",
   "metadata": {},
   "source": [
    "Através da análise de dados, foi possível obter algumas informações muito relevantes sobre os K-dramas mais populares. Os dados podem ser utilizados, por exemplo, por empresas de produção para que elas entendam o que mais agrada o público. Analisando os top 100 melhores k-drama, pode-se ver k-dramas com protagonismo feminino são mais populares e tópicos como inteligência, esforço e relacionamento são os mais presentes. Também foi possível analisar que k-dramas de gênero romance possuem maior atenção do público, em seguida vem a comédia. Ainda assim, não são tão distantes de terror e mistério. Nos anos de 2020 e 2021 foram lançados o maior número de k-dramas que receberam a atenção do público. A tVN foi a rede que mais produziu k-dramas que caíram no gosto do público, mas a plataforma de streaming Netflix não ficou muito atrás, dando maior atenção a esse novo ramo cinematográfico."
   ]
  }
 ],
 "metadata": {
  "kernelspec": {
   "display_name": "Python 3",
   "language": "python",
   "name": "python3"
  },
  "language_info": {
   "codemirror_mode": {
    "name": "ipython",
    "version": 3
   },
   "file_extension": ".py",
   "mimetype": "text/x-python",
   "name": "python",
   "nbconvert_exporter": "python",
   "pygments_lexer": "ipython3",
   "version": "3.10.1"
  }
 },
 "nbformat": 4,
 "nbformat_minor": 2
}
