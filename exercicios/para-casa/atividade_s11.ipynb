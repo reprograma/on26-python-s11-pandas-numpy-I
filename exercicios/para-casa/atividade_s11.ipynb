{
 "cells": [
  {
   "cell_type": "markdown",
   "metadata": {},
   "source": [
    "### Criando meu próprio dataframe"
   ]
  },
  {
   "cell_type": "markdown",
   "metadata": {},
   "source": [
    "### Biblioteca: Pandas\n",
    "\n",
    "Panda é a biblioteca para Ciência de Dados de código aberto (open source), construída sobre a linguagem Python. (Fonte: https://www.alura.com.br/artigospandas-o-que-e-para-que-serve-como-instalar#:~:text=Pandas%20%C3%A9%20uma%20biblioteca%20para,de%20maneira%20simples%20e%20intuitiva.)\n",
    "\n",
    "A proposta é criar um dataframe que consiga guardar as informações dos doramas que eu assisto, posteriomente vou poder ver a quantidade de doramas assitidos, qual é o gênero que eu mais consumo e se são doramas produzidos recentemente ou não. Esses são exemplos de resultados que o dataframe vai possibilitar apontar. \n",
    "\n",
    "Para criação do meu dataframe, o 1° passo é importar a biblioteca que vou utilizar, no caso: Pandas. Para isso, vou usar o comando import, o pd na linha desse código é como se fosse o apelido do Pandas, é como vamos chamar a biblioteca a partir desse passo inicial."
   ]
  },
  {
   "cell_type": "code",
   "execution_count": 1,
   "metadata": {},
   "outputs": [],
   "source": [
    "import pandas as pd"
   ]
  },
  {
   "cell_type": "markdown",
   "metadata": {},
   "source": [
    "### Dataframe do zero\n",
    "Para criar esse dataframe, o 2° passo consiste em criar um dicionário. O que são dicionários? \n",
    "Os dicionários são coleções de itens e seus elemento são armazenados de forma não ordenada. Seus elementos contém uma chave e valor. (Fonte:https://pythonacademy.com.br/blog/dicts-ou-dicionarios-no-python)"
   ]
  },
  {
   "cell_type": "code",
   "execution_count": 2,
   "metadata": {},
   "outputs": [
    {
     "data": {
      "text/plain": [
       "{'id': [1, 2, 3, 3, 4],\n",
       " 'titulo': ['Atashinchi no Danshi',\n",
       "  'Masters sun',\n",
       "  'Strong Girl Bong Soon',\n",
       "  'Strong Girl Bong Soon',\n",
       "  'Welcome to Waikiki'],\n",
       " 'genero': ['drama', 'misterio', 'thriller', 'thriller', 'comedia'],\n",
       " 'ano': [2009, 2013, 2017, 2017, 2019]}"
      ]
     },
     "execution_count": 2,
     "metadata": {},
     "output_type": "execute_result"
    }
   ],
   "source": [
    "dados= {'id': [1,2,3,3,4,],\n",
    "        'titulo': ['Atashinchi no Danshi', 'Masters sun','Strong Girl Bong Soon','Strong Girl Bong Soon','Welcome to Waikiki'],\n",
    "        'genero': ['drama','misterio','thriller','thriller','comedia'],\n",
    "        'ano': [2009,2013,2017,2017,2019],\n",
    "}\n",
    "dados"
   ]
  },
  {
   "cell_type": "code",
   "execution_count": 4,
   "metadata": {},
   "outputs": [
    {
     "data": {
      "text/html": [
       "<div>\n",
       "<style scoped>\n",
       "    .dataframe tbody tr th:only-of-type {\n",
       "        vertical-align: middle;\n",
       "    }\n",
       "\n",
       "    .dataframe tbody tr th {\n",
       "        vertical-align: top;\n",
       "    }\n",
       "\n",
       "    .dataframe thead th {\n",
       "        text-align: right;\n",
       "    }\n",
       "</style>\n",
       "<table border=\"1\" class=\"dataframe\">\n",
       "  <thead>\n",
       "    <tr style=\"text-align: right;\">\n",
       "      <th></th>\n",
       "      <th>id</th>\n",
       "      <th>titulo</th>\n",
       "      <th>genero</th>\n",
       "      <th>ano</th>\n",
       "    </tr>\n",
       "  </thead>\n",
       "  <tbody>\n",
       "    <tr>\n",
       "      <th>0</th>\n",
       "      <td>1</td>\n",
       "      <td>Atashinchi no Danshi</td>\n",
       "      <td>drama</td>\n",
       "      <td>2009</td>\n",
       "    </tr>\n",
       "    <tr>\n",
       "      <th>1</th>\n",
       "      <td>2</td>\n",
       "      <td>Masters sun</td>\n",
       "      <td>misterio</td>\n",
       "      <td>2013</td>\n",
       "    </tr>\n",
       "    <tr>\n",
       "      <th>2</th>\n",
       "      <td>3</td>\n",
       "      <td>Strong Girl Bong Soon</td>\n",
       "      <td>thriller</td>\n",
       "      <td>2017</td>\n",
       "    </tr>\n",
       "    <tr>\n",
       "      <th>3</th>\n",
       "      <td>3</td>\n",
       "      <td>Strong Girl Bong Soon</td>\n",
       "      <td>thriller</td>\n",
       "      <td>2017</td>\n",
       "    </tr>\n",
       "    <tr>\n",
       "      <th>4</th>\n",
       "      <td>4</td>\n",
       "      <td>Welcome to Waikiki</td>\n",
       "      <td>comedia</td>\n",
       "      <td>2019</td>\n",
       "    </tr>\n",
       "  </tbody>\n",
       "</table>\n",
       "</div>"
      ],
      "text/plain": [
       "   id                 titulo    genero   ano\n",
       "0   1   Atashinchi no Danshi     drama  2009\n",
       "1   2            Masters sun  misterio  2013\n",
       "2   3  Strong Girl Bong Soon  thriller  2017\n",
       "3   3  Strong Girl Bong Soon  thriller  2017\n",
       "4   4     Welcome to Waikiki   comedia  2019"
      ]
     },
     "execution_count": 4,
     "metadata": {},
     "output_type": "execute_result"
    }
   ],
   "source": [
    "# criando o dataframe\n",
    "df = pd.DataFrame(dados)\n",
    "\n",
    "#chamado a variável, podemos ver que o dataframe ganhou estrutura visual\n",
    "df"
   ]
  },
  {
   "cell_type": "code",
   "execution_count": 5,
   "metadata": {},
   "outputs": [
    {
     "name": "stdout",
     "output_type": "stream",
     "text": [
      "<class 'pandas.core.frame.DataFrame'>\n",
      "RangeIndex: 5 entries, 0 to 4\n",
      "Data columns (total 4 columns):\n",
      " #   Column  Non-Null Count  Dtype \n",
      "---  ------  --------------  ----- \n",
      " 0   id      5 non-null      int64 \n",
      " 1   titulo  5 non-null      object\n",
      " 2   genero  5 non-null      object\n",
      " 3   ano     5 non-null      int64 \n",
      "dtypes: int64(2), object(2)\n",
      "memory usage: 292.0+ bytes\n"
     ]
    }
   ],
   "source": [
    "# Algumas informações do dataframe \n",
    "df.info()"
   ]
  },
  {
   "cell_type": "code",
   "execution_count": 6,
   "metadata": {},
   "outputs": [
    {
     "data": {
      "text/plain": [
       "id        0\n",
       "titulo    0\n",
       "genero    0\n",
       "ano       0\n",
       "dtype: int64"
      ]
     },
     "execution_count": 6,
     "metadata": {},
     "output_type": "execute_result"
    }
   ],
   "source": [
    "#Será que o dataframe possui dados nulos? Vamos verificar:\n",
    "df.isnull().sum()\n",
    "# O método isnull detecta valores ausentes para um objeto semelhante a uma matriz.(Fonte: Pandas.pydata.org)\n",
    "# A função sum retorna um número, a soma de todos os itens em uma iteração. (Fonte: www.w3schools.com)\n",
    "\n",
    "# Podemos observar que o dataframe não possui dados nulo. Caso contrário indicaria a quantidade desses dados nulos."
   ]
  },
  {
   "cell_type": "markdown",
   "metadata": {},
   "source": [
    "### De perto e de dentro: observando os dados "
   ]
  },
  {
   "cell_type": "code",
   "execution_count": 7,
   "metadata": {},
   "outputs": [
    {
     "data": {
      "text/plain": [
       "0    False\n",
       "1    False\n",
       "2    False\n",
       "3     True\n",
       "4    False\n",
       "dtype: bool"
      ]
     },
     "execution_count": 7,
     "metadata": {},
     "output_type": "execute_result"
    }
   ],
   "source": [
    "# Será que o dataframe possui dados duplicados? Vejamos:\n",
    "df.duplicated() #duplicated retorna valores booleanos que apontam linhas duplicadas.\n",
    "# A partir de dados booleanos (bool) que identificam apenas: falso(False) ou verdadeiro(True), podemos observar que o dataframe possui \n",
    "# uma linha com campos duplicados. Especificamente a linha: 3"
   ]
  },
  {
   "cell_type": "code",
   "execution_count": 8,
   "metadata": {},
   "outputs": [
    {
     "data": {
      "text/html": [
       "<div>\n",
       "<style scoped>\n",
       "    .dataframe tbody tr th:only-of-type {\n",
       "        vertical-align: middle;\n",
       "    }\n",
       "\n",
       "    .dataframe tbody tr th {\n",
       "        vertical-align: top;\n",
       "    }\n",
       "\n",
       "    .dataframe thead th {\n",
       "        text-align: right;\n",
       "    }\n",
       "</style>\n",
       "<table border=\"1\" class=\"dataframe\">\n",
       "  <thead>\n",
       "    <tr style=\"text-align: right;\">\n",
       "      <th></th>\n",
       "      <th>id</th>\n",
       "      <th>titulo</th>\n",
       "      <th>genero</th>\n",
       "      <th>ano</th>\n",
       "    </tr>\n",
       "  </thead>\n",
       "  <tbody>\n",
       "    <tr>\n",
       "      <th>2</th>\n",
       "      <td>3</td>\n",
       "      <td>Strong Girl Bong Soon</td>\n",
       "      <td>thriller</td>\n",
       "      <td>2017</td>\n",
       "    </tr>\n",
       "    <tr>\n",
       "      <th>3</th>\n",
       "      <td>3</td>\n",
       "      <td>Strong Girl Bong Soon</td>\n",
       "      <td>thriller</td>\n",
       "      <td>2017</td>\n",
       "    </tr>\n",
       "  </tbody>\n",
       "</table>\n",
       "</div>"
      ],
      "text/plain": [
       "   id                 titulo    genero   ano\n",
       "2   3  Strong Girl Bong Soon  thriller  2017\n",
       "3   3  Strong Girl Bong Soon  thriller  2017"
      ]
     },
     "execution_count": 8,
     "metadata": {},
     "output_type": "execute_result"
    }
   ],
   "source": [
    "#Vamos tratar o dado duplicado:\n",
    "df[df.duplicated(keep=False)] #com o keep estamos dizendo para manter somente o que for False\n",
    "#A função nos mostra as linhas duplicadas"
   ]
  },
  {
   "cell_type": "code",
   "execution_count": 12,
   "metadata": {},
   "outputs": [
    {
     "data": {
      "text/html": [
       "<div>\n",
       "<style scoped>\n",
       "    .dataframe tbody tr th:only-of-type {\n",
       "        vertical-align: middle;\n",
       "    }\n",
       "\n",
       "    .dataframe tbody tr th {\n",
       "        vertical-align: top;\n",
       "    }\n",
       "\n",
       "    .dataframe thead th {\n",
       "        text-align: right;\n",
       "    }\n",
       "</style>\n",
       "<table border=\"1\" class=\"dataframe\">\n",
       "  <thead>\n",
       "    <tr style=\"text-align: right;\">\n",
       "      <th></th>\n",
       "      <th>id</th>\n",
       "      <th>titulo</th>\n",
       "      <th>genero</th>\n",
       "      <th>ano</th>\n",
       "    </tr>\n",
       "  </thead>\n",
       "  <tbody>\n",
       "    <tr>\n",
       "      <th>0</th>\n",
       "      <td>1</td>\n",
       "      <td>Atashinchi no Danshi</td>\n",
       "      <td>drama</td>\n",
       "      <td>2009</td>\n",
       "    </tr>\n",
       "    <tr>\n",
       "      <th>1</th>\n",
       "      <td>2</td>\n",
       "      <td>Masters sun</td>\n",
       "      <td>misterio</td>\n",
       "      <td>2013</td>\n",
       "    </tr>\n",
       "    <tr>\n",
       "      <th>2</th>\n",
       "      <td>3</td>\n",
       "      <td>Strong Girl Bong Soon</td>\n",
       "      <td>thriller</td>\n",
       "      <td>2017</td>\n",
       "    </tr>\n",
       "    <tr>\n",
       "      <th>3</th>\n",
       "      <td>3</td>\n",
       "      <td>Strong Girl Bong Soon</td>\n",
       "      <td>thriller</td>\n",
       "      <td>2017</td>\n",
       "    </tr>\n",
       "    <tr>\n",
       "      <th>4</th>\n",
       "      <td>4</td>\n",
       "      <td>Welcome to Waikiki</td>\n",
       "      <td>comedia</td>\n",
       "      <td>2019</td>\n",
       "    </tr>\n",
       "  </tbody>\n",
       "</table>\n",
       "</div>"
      ],
      "text/plain": [
       "   id                 titulo    genero   ano\n",
       "0   1   Atashinchi no Danshi     drama  2009\n",
       "1   2            Masters sun  misterio  2013\n",
       "2   3  Strong Girl Bong Soon  thriller  2017\n",
       "3   3  Strong Girl Bong Soon  thriller  2017\n",
       "4   4     Welcome to Waikiki   comedia  2019"
      ]
     },
     "execution_count": 12,
     "metadata": {},
     "output_type": "execute_result"
    }
   ],
   "source": [
    "#Reconhecendo as linhas duplicadas, vamos dizer para função que queremos manter (keep) somente a primeira(first) linha\n",
    "df[df.duplicated(keep='first')]\n"
   ]
  },
  {
   "cell_type": "code",
   "execution_count": 13,
   "metadata": {},
   "outputs": [],
   "source": [
    "df.drop_duplicates(inplace=True) #agora a linha duplicada não vai aparecer"
   ]
  },
  {
   "cell_type": "code",
   "execution_count": 10,
   "metadata": {},
   "outputs": [
    {
     "data": {
      "text/plain": [
       "Index(['id', 'titulo', 'genero', 'ano'], dtype='object')"
      ]
     },
     "execution_count": 10,
     "metadata": {},
     "output_type": "execute_result"
    }
   ],
   "source": [
    "# Vamos pedir para função nos apontar as colunas do dataframe:\n",
    "df.columns"
   ]
  },
  {
   "cell_type": "code",
   "execution_count": 14,
   "metadata": {},
   "outputs": [
    {
     "data": {
      "text/html": [
       "<div>\n",
       "<style scoped>\n",
       "    .dataframe tbody tr th:only-of-type {\n",
       "        vertical-align: middle;\n",
       "    }\n",
       "\n",
       "    .dataframe tbody tr th {\n",
       "        vertical-align: top;\n",
       "    }\n",
       "\n",
       "    .dataframe thead th {\n",
       "        text-align: right;\n",
       "    }\n",
       "</style>\n",
       "<table border=\"1\" class=\"dataframe\">\n",
       "  <thead>\n",
       "    <tr style=\"text-align: right;\">\n",
       "      <th></th>\n",
       "      <th>titulo</th>\n",
       "      <th>genero</th>\n",
       "      <th>ano</th>\n",
       "    </tr>\n",
       "  </thead>\n",
       "  <tbody>\n",
       "    <tr>\n",
       "      <th>0</th>\n",
       "      <td>Atashinchi no Danshi</td>\n",
       "      <td>drama</td>\n",
       "      <td>2009</td>\n",
       "    </tr>\n",
       "    <tr>\n",
       "      <th>1</th>\n",
       "      <td>Masters sun</td>\n",
       "      <td>misterio</td>\n",
       "      <td>2013</td>\n",
       "    </tr>\n",
       "    <tr>\n",
       "      <th>2</th>\n",
       "      <td>Strong Girl Bong Soon</td>\n",
       "      <td>thriller</td>\n",
       "      <td>2017</td>\n",
       "    </tr>\n",
       "    <tr>\n",
       "      <th>4</th>\n",
       "      <td>Welcome to Waikiki</td>\n",
       "      <td>comedia</td>\n",
       "      <td>2019</td>\n",
       "    </tr>\n",
       "  </tbody>\n",
       "</table>\n",
       "</div>"
      ],
      "text/plain": [
       "                  titulo    genero   ano\n",
       "0   Atashinchi no Danshi     drama  2009\n",
       "1            Masters sun  misterio  2013\n",
       "2  Strong Girl Bong Soon  thriller  2017\n",
       "4     Welcome to Waikiki   comedia  2019"
      ]
     },
     "execution_count": 14,
     "metadata": {},
     "output_type": "execute_result"
    }
   ],
   "source": [
    "#Em casos que queremos excluir a coluna, podemos fazer o seguinte:\n",
    "df.drop(columns=['id'])\n",
    "#Veja que a coluna id foi retirada da nossa visualização"
   ]
  },
  {
   "cell_type": "code",
   "execution_count": 18,
   "metadata": {},
   "outputs": [],
   "source": [
    "#Exportando dataframe pandas para o excel\n",
    "df.to_csv('propiodataframe.csv')"
   ]
  },
  {
   "cell_type": "code",
   "execution_count": 25,
   "metadata": {},
   "outputs": [
    {
     "data": {
      "text/html": [
       "<div>\n",
       "<style scoped>\n",
       "    .dataframe tbody tr th:only-of-type {\n",
       "        vertical-align: middle;\n",
       "    }\n",
       "\n",
       "    .dataframe tbody tr th {\n",
       "        vertical-align: top;\n",
       "    }\n",
       "\n",
       "    .dataframe thead th {\n",
       "        text-align: right;\n",
       "    }\n",
       "</style>\n",
       "<table border=\"1\" class=\"dataframe\">\n",
       "  <thead>\n",
       "    <tr style=\"text-align: right;\">\n",
       "      <th></th>\n",
       "      <th>genero</th>\n",
       "      <th>ano</th>\n",
       "    </tr>\n",
       "  </thead>\n",
       "  <tbody>\n",
       "    <tr>\n",
       "      <th>0</th>\n",
       "      <td>drama</td>\n",
       "      <td>2009</td>\n",
       "    </tr>\n",
       "    <tr>\n",
       "      <th>1</th>\n",
       "      <td>misterio</td>\n",
       "      <td>2013</td>\n",
       "    </tr>\n",
       "    <tr>\n",
       "      <th>2</th>\n",
       "      <td>thriller</td>\n",
       "      <td>2017</td>\n",
       "    </tr>\n",
       "    <tr>\n",
       "      <th>3</th>\n",
       "      <td>comedia</td>\n",
       "      <td>2019</td>\n",
       "    </tr>\n",
       "  </tbody>\n",
       "</table>\n",
       "</div>"
      ],
      "text/plain": [
       "     genero   ano\n",
       "0     drama  2009\n",
       "1  misterio  2013\n",
       "2  thriller  2017\n",
       "3   comedia  2019"
      ]
     },
     "execution_count": 25,
     "metadata": {},
     "output_type": "execute_result"
    }
   ],
   "source": [
    "#Analisando colunas especificas. Exemplo: de todas as colunas existentes no dataframe, tenho interesse no momento nas colunas genero e ano\n",
    "df_teste = pd.read_csv ('propiodataframe.csv', usecols=['genero', 'ano'])\n",
    "df_teste"
   ]
  },
  {
   "cell_type": "code",
   "execution_count": 33,
   "metadata": {},
   "outputs": [
    {
     "data": {
      "text/html": [
       "<div>\n",
       "<style scoped>\n",
       "    .dataframe tbody tr th:only-of-type {\n",
       "        vertical-align: middle;\n",
       "    }\n",
       "\n",
       "    .dataframe tbody tr th {\n",
       "        vertical-align: top;\n",
       "    }\n",
       "\n",
       "    .dataframe thead th {\n",
       "        text-align: right;\n",
       "    }\n",
       "</style>\n",
       "<table border=\"1\" class=\"dataframe\">\n",
       "  <thead>\n",
       "    <tr style=\"text-align: right;\">\n",
       "      <th></th>\n",
       "      <th>id</th>\n",
       "      <th>titulo</th>\n",
       "      <th>genero</th>\n",
       "      <th>ano</th>\n",
       "    </tr>\n",
       "  </thead>\n",
       "  <tbody>\n",
       "    <tr>\n",
       "      <th>0</th>\n",
       "      <td>1</td>\n",
       "      <td>Atashinchi no Danshi</td>\n",
       "      <td>drama</td>\n",
       "      <td>2009</td>\n",
       "    </tr>\n",
       "    <tr>\n",
       "      <th>1</th>\n",
       "      <td>2</td>\n",
       "      <td>Masters sun</td>\n",
       "      <td>misterio</td>\n",
       "      <td>2013</td>\n",
       "    </tr>\n",
       "    <tr>\n",
       "      <th>2</th>\n",
       "      <td>3</td>\n",
       "      <td>Strong Girl Bong Soon</td>\n",
       "      <td>romance</td>\n",
       "      <td>2017</td>\n",
       "    </tr>\n",
       "    <tr>\n",
       "      <th>4</th>\n",
       "      <td>4</td>\n",
       "      <td>Welcome to Waikiki</td>\n",
       "      <td>comedia</td>\n",
       "      <td>2019</td>\n",
       "    </tr>\n",
       "  </tbody>\n",
       "</table>\n",
       "</div>"
      ],
      "text/plain": [
       "   id                 titulo    genero   ano\n",
       "0   1   Atashinchi no Danshi     drama  2009\n",
       "1   2            Masters sun  misterio  2013\n",
       "2   3  Strong Girl Bong Soon   romance  2017\n",
       "4   4     Welcome to Waikiki   comedia  2019"
      ]
     },
     "execution_count": 33,
     "metadata": {},
     "output_type": "execute_result"
    }
   ],
   "source": [
    "#Para alterar um valor especifico, podemos usar a seguinte função:\n",
    "df.loc[df['genero']== 'thriller', 'genero'] = 'romance'\n",
    "\n",
    "df"
   ]
  }
 ],
 "metadata": {
  "kernelspec": {
   "display_name": "Python 3",
   "language": "python",
   "name": "python3"
  },
  "language_info": {
   "codemirror_mode": {
    "name": "ipython",
    "version": 3
   },
   "file_extension": ".py",
   "mimetype": "text/x-python",
   "name": "python",
   "nbconvert_exporter": "python",
   "pygments_lexer": "ipython3",
   "version": "3.11.5"
  }
 },
 "nbformat": 4,
 "nbformat_minor": 2
}
