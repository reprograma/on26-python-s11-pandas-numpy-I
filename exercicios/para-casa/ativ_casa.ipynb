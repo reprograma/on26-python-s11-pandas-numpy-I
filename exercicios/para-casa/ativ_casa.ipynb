{
 "cells": [
  {
   "cell_type": "markdown",
   "metadata": {},
   "source": [
    "### Introdução\n",
    "\n",
    "Dataset criado com base de dados de rank de animes.\n",
    "Possui dados que classifica títulos de animes com base em suas pontuações. Os títulos são organizados da maior pontuação (classificação 1) para a menor. Cada coluna possui informações sobre:\n",
    "- Ranking\n",
    "- Pontuação atribuída pelos usuários, com pontuações mais altas indicando maior popularidade e qualidade\n",
    "- Título do anime\n",
    "- Data que ficou no ar \n",
    "- Número de episódios\n",
    "- Pontuação atribuída pelos usuários, com pontuações mais altas indicando maior popularidade e qualidade. \n",
    "\n",
    "É um banco de dados útil para entusiastas de anime."
   ]
  },
  {
   "cell_type": "code",
   "execution_count": null,
   "metadata": {},
   "outputs": [],
   "source": [
    "import pandas as pd"
   ]
  },
  {
   "cell_type": "markdown",
   "metadata": {},
   "source": [
    "Função de processamento"
   ]
  },
  {
   "cell_type": "code",
   "execution_count": null,
   "metadata": {},
   "outputs": [],
   "source": [
    "df = pd.read_csv(\"Anime Ranked - top_animes.csv\")\n",
    "df"
   ]
  },
  {
   "cell_type": "code",
   "execution_count": null,
   "metadata": {},
   "outputs": [],
   "source": [
    "df.describe()"
   ]
  },
  {
   "cell_type": "code",
   "execution_count": null,
   "metadata": {},
   "outputs": [],
   "source": [
    "df.head(3)"
   ]
  },
  {
   "cell_type": "code",
   "execution_count": null,
   "metadata": {},
   "outputs": [],
   "source": [
    "df = pd.DataFrame()"
   ]
  },
  {
   "cell_type": "code",
   "execution_count": null,
   "metadata": {},
   "outputs": [],
   "source": [
    "df = df.dropna([\"'Number_of_Episodes'\"])\n",
    "df.shape"
   ]
  },
  {
   "cell_type": "code",
   "execution_count": null,
   "metadata": {},
   "outputs": [],
   "source": [
    "anime = \"Anime Ranked - top_animes.csv\"\n",
    "\n",
    "def export_csv(dataframe, anime):\n",
    "    dataframe.to_csv(anime, index=False)\n",
    "\n",
    "anime2 = pd.DataFrame({'A': [\"Title\"], 'B': ['Number_of_Episodes']})\n",
    "export_csv(anime2, 'anime.csv')\n"
   ]
  },
  {
   "cell_type": "markdown",
   "metadata": {},
   "source": [
    "## Insights\n",
    "\n",
    "- Qual a relação da duração do anime com a popularidade\n",
    "- A data de lançamento influencia na popularidade"
   ]
  }
 ],
 "metadata": {
  "kernelspec": {
   "display_name": "Python 3",
   "language": "python",
   "name": "python3"
  },
  "language_info": {
   "codemirror_mode": {
    "name": "ipython",
    "version": 3
   },
   "file_extension": ".py",
   "mimetype": "text/x-python",
   "name": "python",
   "nbconvert_exporter": "python",
   "pygments_lexer": "ipython3",
   "version": "3.11.4"
  }
 },
 "nbformat": 4,
 "nbformat_minor": 2
}
