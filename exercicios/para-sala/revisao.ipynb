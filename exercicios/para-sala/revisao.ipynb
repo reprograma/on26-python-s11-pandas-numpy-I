{
 "cells": [
  {
   "cell_type": "code",
   "execution_count": 1,
   "metadata": {},
   "outputs": [],
   "source": [
    "import pandas as pd # import toda vez que abrir o vscode"
   ]
  },
  {
   "cell_type": "code",
   "execution_count": 2,
   "metadata": {},
   "outputs": [
    {
     "data": {
      "text/plain": [
       "{'cod_compra': [1, 2, 3, 4, 5, 6, 6, 7, 8],\n",
       " 'cod_cliente': ['0001',\n",
       "  '0002',\n",
       "  '0003',\n",
       "  '0004',\n",
       "  '0005',\n",
       "  '0006',\n",
       "  '0006',\n",
       "  '0007',\n",
       "  '0008'],\n",
       " 'material': ['lapis',\n",
       "  'borracha',\n",
       "  'caneta',\n",
       "  'apontador',\n",
       "  'mochila',\n",
       "  'caderno',\n",
       "  'caderno',\n",
       "  'lapis',\n",
       "  None],\n",
       " 'quantidade': [6, 10, 3, 1, 5, 7, 7, None, None]}"
      ]
     },
     "execution_count": 2,
     "metadata": {},
     "output_type": "execute_result"
    }
   ],
   "source": [
    "# criando um dicionario para criar um dataframe do zedo\n",
    "dados = {'cod_compra': [1,2,3,4,5,6,6,7,8],\n",
    "         'cod_cliente': ['0001', '0002','0003', '0004', '0005', '0006', '0006', '0007', '0008'],\n",
    "         'material': ['lapis', 'borracha', 'caneta', 'apontador', 'mochila', 'caderno', 'caderno', 'lapis', None],\n",
    "         'quantidade': [6,10,3,1,5,7,7, None, None],\n",
    "}\n",
    "dados"
   ]
  },
  {
   "cell_type": "code",
   "execution_count": 3,
   "metadata": {},
   "outputs": [
    {
     "ename": "NameError",
     "evalue": "name 'DataFrame' is not defined",
     "output_type": "error",
     "traceback": [
      "\u001b[1;31m---------------------------------------------------------------------------\u001b[0m",
      "\u001b[1;31mNameError\u001b[0m                                 Traceback (most recent call last)",
      "\u001b[1;32mc:\\Users\\PROFESSOR\\estudos-reprograma\\semana11\\on26-python-s11-pandas-numpy-I\\exercicios\\para-sala\\revisao.ipynb Cell 3\u001b[0m line \u001b[0;36m1\n\u001b[1;32m----> <a href='vscode-notebook-cell:/c%3A/Users/PROFESSOR/estudos-reprograma/semana11/on26-python-s11-pandas-numpy-I/exercicios/para-sala/revisao.ipynb#W1sZmlsZQ%3D%3D?line=0'>1</a>\u001b[0m df \u001b[39m=\u001b[39m pd,DataFrame(dados) \u001b[39m# df = data frame\u001b[39;00m\n",
      "\u001b[1;31mNameError\u001b[0m: name 'DataFrame' is not defined"
     ]
    }
   ],
   "source": [
    "df = pd,DataFrame(dados) # df = data frame"
   ]
  },
  {
   "cell_type": "code",
   "execution_count": null,
   "metadata": {},
   "outputs": [],
   "source": [
    "df"
   ]
  },
  {
   "cell_type": "code",
   "execution_count": null,
   "metadata": {},
   "outputs": [],
   "source": [
    "df.info() # argumento keep mantem a linha duplicada false, first ou last"
   ]
  }
 ],
 "metadata": {
  "kernelspec": {
   "display_name": "Python 3",
   "language": "python",
   "name": "python3"
  },
  "language_info": {
   "codemirror_mode": {
    "name": "ipython",
    "version": 3
   },
   "file_extension": ".py",
   "mimetype": "text/x-python",
   "name": "python",
   "nbconvert_exporter": "python",
   "pygments_lexer": "ipython3",
   "version": "3.11.4"
  }
 },
 "nbformat": 4,
 "nbformat_minor": 2
}
